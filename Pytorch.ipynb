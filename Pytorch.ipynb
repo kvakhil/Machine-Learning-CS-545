{
  "nbformat": 4,
  "nbformat_minor": 0,
  "metadata": {
    "kernelspec": {
      "display_name": "Python 3",
      "language": "python",
      "name": "python3"
    },
    "language_info": {
      "codemirror_mode": {
        "name": "ipython",
        "version": 3
      },
      "file_extension": ".py",
      "mimetype": "text/x-python",
      "name": "python",
      "nbconvert_exporter": "python",
      "pygments_lexer": "ipython3",
      "version": "3.8.3"
    },
    "toc": {
      "base_numbering": 1,
      "nav_menu": {},
      "number_sections": true,
      "sideBar": true,
      "skip_h1_title": false,
      "title_cell": "Table of Contents",
      "title_sidebar": "Contents",
      "toc_cell": true,
      "toc_position": {},
      "toc_section_display": true,
      "toc_window_display": false
    },
    "colab": {
      "name": "Pytorch.ipynb",
      "provenance": [],
      "collapsed_sections": [],
      "include_colab_link": true
    }
  },
  "cells": [
    {
      "cell_type": "markdown",
      "metadata": {
        "id": "view-in-github",
        "colab_type": "text"
      },
      "source": [
        "<a href=\"https://colab.research.google.com/github/kvakhil/Machine-Learning-CS-545/blob/main/Pytorch.ipynb\" target=\"_parent\"><img src=\"https://colab.research.google.com/assets/colab-badge.svg\" alt=\"Open In Colab\"/></a>"
      ]
    },
    {
      "cell_type": "markdown",
      "metadata": {
        "toc": true,
        "id": "onhCchdiKwtA"
      },
      "source": [
        "<h1>Table of Contents<span class=\"tocSkip\"></span></h1>\n",
        "<div class=\"toc\"><ul class=\"toc-item\"><li><span><a href=\"#Neural-Network-Classes\" data-toc-modified-id=\"Neural-Network-Classes-1\"><span class=\"toc-item-num\">1&nbsp;&nbsp;</span>Neural Network Classes</a></span></li><li><span><a href=\"#Additional-Required-Functions\" data-toc-modified-id=\"Additional-Required-Functions-2\"><span class=\"toc-item-num\">2&nbsp;&nbsp;</span>Additional Required Functions</a></span></li><li><span><a href=\"#Application-to-Three-Data-Sets\" data-toc-modified-id=\"Application-to-Three-Data-Sets-3\"><span class=\"toc-item-num\">3&nbsp;&nbsp;</span>Application to Three Data Sets</a></span></li><li><span><a href=\"#Grading\" data-toc-modified-id=\"Grading-4\"><span class=\"toc-item-num\">4&nbsp;&nbsp;</span>Grading</a></span></li><li><span><a href=\"#Extra-Credit\" data-toc-modified-id=\"Extra-Credit-5\"><span class=\"toc-item-num\">5&nbsp;&nbsp;</span>Extra Credit</a></span></li></ul></div>"
      ]
    },
    {
      "cell_type": "markdown",
      "metadata": {
        "id": "zPsoH_UsKwtB"
      },
      "source": [
        "<font size=10>Neural Networks in Pytorch</font>"
      ]
    },
    {
      "cell_type": "markdown",
      "metadata": {
        "id": "kRqij4L0KwtB"
      },
      "source": [
        "In this assignment, you will\n",
        "1. complete the implementations of neural network classes,\n",
        "2. define the new function `multiple_runs_classification`,\n",
        "3. define the new function `multiple_runs_convolutional`,\n",
        "4. copy and paste `percent_correct` and `confusion_matrx` from previous notes,\n",
        "4. present and discuss regression results on automobile MPG data,\n",
        "5. present and discuss classification results on diabetes data,\n",
        "6. present and discuss classification results on small version of MNIST data."
      ]
    },
    {
      "cell_type": "markdown",
      "metadata": {
        "id": "uwdH9r0VKwtB"
      },
      "source": [
        "# Neural Network Classes"
      ]
    },
    {
      "cell_type": "code",
      "metadata": {
        "ExecuteTime": {
          "end_time": "2020-11-06T23:15:15.882432Z",
          "start_time": "2020-11-06T23:15:15.516428Z"
        },
        "id": "h4l-3BZyKwtB"
      },
      "source": [
        "import numpy as np\n",
        "import matplotlib.pyplot as plt\n",
        "import torch"
      ],
      "execution_count": null,
      "outputs": []
    },
    {
      "cell_type": "markdown",
      "metadata": {
        "id": "7QyTujWkKwtC"
      },
      "source": [
        "For this assignment, start with implementations of the following classes:\n",
        "* `NeuralNetworkTorch`: copied and pasted from Lecture Notes 16.1\n",
        "* `NeuralNetworkClassifierTorch`: copied and pasted from Lecture Notes 16.1\n",
        "* `NeuralNetworkClassifierConvolutionalTorch`: copied and pasted from Lecture Notes 16.1 and completed.\n",
        "\n",
        "The `train` functions in this classes have two additional arguments, `Xval`nad `Tval`:\n",
        "\n",
        "```python\n",
        "   def train(self, Xtrain, Ttrain, n_epochs, learning_rate=0.01, method='adam', verbose=True, \n",
        "             Xval=None, Tval=None):\n",
        "```\n",
        "\n",
        "where `Xtrain` and `Ttrain` are the usual two arguments used to train the network, and `Xval` and `Tval` are the validation data matrices.  `Xval` and `Tval` are only used to calculate the performance (MSE or NLL) once per epoch.  If the performance is better than the best so far, update an array that is storing the best weight values so far, and also update the best performance so far.  When training is complete, copy the stored best-so-far weights back into the network.  If `Xval` is `None`, then this step is ignored and the weights in the neural network at the end of training are not modified."
      ]
    },
    {
      "cell_type": "markdown",
      "metadata": {
        "id": "z47Krj0UKwtC"
      },
      "source": [
        "# Additional Required Functions"
      ]
    },
    {
      "cell_type": "markdown",
      "metadata": {
        "id": "8j30MJDpKwtC"
      },
      "source": [
        "Include in this notebook the following functions we have defined before\n",
        "* `percent_correct`\n",
        "* `partition`\n",
        "* `multiple_runs_regression`\n",
        "\n",
        "and define two new functions\n",
        "* `multiple_runs_classification`\n",
        "* `multiple_runs_convolutional`\n",
        "\n",
        "based on `multiple_runs_regression`."
      ]
    },
    {
      "cell_type": "code",
      "metadata": {
        "id": "UHhX1wTnLNBJ"
      },
      "source": [
        "######################################################################\n",
        "## NeuralNetwork  for regression\n",
        "######################################################################\n",
        "\n",
        "class NeuralNetworkTorch(torch.nn.Module):\n",
        "\n",
        "    def __init__(self, n_inputs, n_hiddens_list, n_outputs, device='cpu'):\n",
        "\n",
        "        super().__init__()\n",
        "\n",
        "        self.n_inputs = n_inputs\n",
        "        self.n_hiddens_list = n_hiddens_list\n",
        "        self.n_outputs = n_outputs\n",
        "        self.device = device\n",
        "\n",
        "        self.n_layers = len(n_hiddens_list) + 1\n",
        "        \n",
        "        self.layers = torch.nn.ModuleList()\n",
        "        for n_units in n_hiddens_list:\n",
        "            self.layers.append(self._make_tanh_layer(n_inputs, n_units))\n",
        "            n_inputs = n_units\n",
        "        self.layers.append(torch.nn.Linear(n_inputs, n_outputs))\n",
        "\n",
        "        self.stand_params = None\n",
        "        self.error_trace = []\n",
        "        self.error_trace_val = []\n",
        "\n",
        "    def _make_tanh_layer(self, n_inputs, n_units):\n",
        "        return torch.nn.Sequential(torch.nn.Linear(n_inputs, n_units),\n",
        "                                   torch.nn.Tanh())\n",
        "\n",
        "    def __repr__(self):\n",
        "        return f'NeuralNetworkTorch({self.n_inputs}, {self.n_hiddens_list}, {self.n_outputs}, device={self.device})'\n",
        "\n",
        "    def forward(self, Xst):\n",
        "        Ys = [Xst]\n",
        "        for layer in self.layers:\n",
        "            Ys.append(layer(Ys[-1]))\n",
        "        return Ys[1:]  # remove X from Ys\n",
        "\n",
        "    def train(self, Xtrain, Ttrain, n_epochs=10, learning_rate=0.01, method='adam', verbose=True, Xval=None, Tval=None):\n",
        "\n",
        "        if isinstance(Xtrain, np.ndarray):\n",
        "            Xtrain = torch.from_numpy(Xtrain.astype(np.float32))\n",
        "        if isinstance(Ttrain, np.ndarray):\n",
        "            Ttrain = torch.from_numpy(Ttrain.astype(np.float32))\n",
        "\n",
        "        if Xval is not None:\n",
        "            if isinstance(Xval, np.ndarray):\n",
        "                Xval = torch.from_numpy(Xval.astype(np.float32))\n",
        "            if isinstance(Tval, np.ndarray):\n",
        "                Tval = torch.from_numpy(Tval.astype(np.float32))\n",
        "\n",
        "        self.stand_params = self.calc_standardize_parameters(Xtrain, Ttrain)\n",
        "        Xtrain = self.standardize_X(Xtrain)\n",
        "        Ttrain = self.standardize_T(Ttrain)\n",
        "        if Xval is not None:\n",
        "            Xval = self.standardize_X(Xval)\n",
        "            Tval = self.standardize_T(Tval)\n",
        "\n",
        "        if method == 'sgd':\n",
        "            optimizer = torch.optim.SGD(self.parameters(), lr=learning_rate)\n",
        "        elif method == 'adam':\n",
        "            optimizer = torch.optim.Adam(self.parameters(), lr=learning_rate)\n",
        "        else:\n",
        "            print('train: method must be \\'sgd\\', or \\'adam\\'.')\n",
        "\n",
        "        error_f = torch.nn.MSELoss()\n",
        "\n",
        "        self.best_epoch = None\n",
        "        best_mse = None\n",
        "        best_weights = self.get_all_weights()\n",
        "        \n",
        "        for epoch in range(n_epochs):\n",
        "\n",
        "            Ytrain = self.forward(Xtrain)[-1]  # to get last layer output\n",
        "            mse = error_f(Ytrain, Ttrain)\n",
        "\n",
        "            optimizer.zero_grad()\n",
        "            mse.backward()\n",
        "            optimizer.step()\n",
        "\n",
        "            self.error_trace.append(mse.sqrt())\n",
        "            \n",
        "            if Xval is not None:\n",
        "                Yval = self.forward(Xval)[-1]\n",
        "                mse_val = error_f(Yval, Tval)\n",
        "                self.error_trace_val.append(mse_val.sqrt())\n",
        "                \n",
        "                if best_mse is None or mse_val < best_mse:\n",
        "                    best_mse = mse_val\n",
        "                    best_weights = self.get_all_weights()\n",
        "                    self.best_epoch = epoch\n",
        "\n",
        "            if verbose and ((epoch+1) % (n_epochs // 10) == 0 or epoch == n_epochs - 1):\n",
        "                if Xval is not None:\n",
        "                    print(f'Epoch {epoch+1} RMSE train {self.error_trace[-1]:.4f} val {self.error_trace_val[-1]:.4f}')\n",
        "                else:\n",
        "                    print(f'Epoch {epoch+1} RMSE {self.error_trace[-1]:.4f}')\n",
        "                \n",
        "        if Xval is not None:\n",
        "            self.set_all_weights(best_weights)\n",
        "\n",
        "        return self\n",
        "\n",
        "    def use(self, X, return_hidden_layer_outputs=False):\n",
        "        if isinstance(X, np.ndarray):\n",
        "            X = torch.from_numpy(X.astype(np.float32))\n",
        "\n",
        "        Xst = self.standardize_X(X)\n",
        "        Ys = self.forward(Xst)\n",
        "        Y = Ys[-1]\n",
        "        Y = self.unstandardize_T(Y)\n",
        "        Zs = Ys[:-1]\n",
        "        Y = Y.detach().cpu().numpy()\n",
        "        Zs = [Z.detach().cpu().numpy() for Z in Zs]\n",
        "        return (Y, Zs) if return_hidden_layer_outputs else Y\n",
        "\n",
        "    def get_error_trace(self):\n",
        "        return self.error_trace\n",
        "\n",
        "    def get_error_traces(self):\n",
        "        return self.error_trace, self.error_trace_val, self.best_epoch\n",
        "\n",
        "    def calc_standardize_parameters(self, X, T):\n",
        "        Xmeans = X.mean(axis=0)\n",
        "        Xstds = X.std(axis=0)\n",
        "        Xstds[Xstds == 0] = Xstds[Xstds > 0].mean(axis=0)\n",
        "        if T is None:\n",
        "            return {'Xmeans': Xmeans, 'Xstds': Xstds}\n",
        "        else:\n",
        "            Tmeans = T.mean(axis=0)\n",
        "            Tstds = T.std(axis=0)\n",
        "            return {'Xmeans': Xmeans, 'Xstds': Xstds, 'Tmeans': Tmeans, 'Tstds': Tstds}\n",
        "\n",
        "    def standardize_X(self, X):\n",
        "        return (X - self.stand_params['Xmeans']) / self.stand_params['Xstds']\n",
        "\n",
        "    def unstandardize_X(self, Xst):\n",
        "        return Xst * self.stand_params['Xstds'] + self.stand_params['Xmeans']\n",
        "\n",
        "    def standardize_T(self, T):\n",
        "        return (T - self.stand_params['Tmeans']) / self.stand_params['Tstds']\n",
        "\n",
        "    def unstandardize_T(self, Tst):\n",
        "        return Tst * self.stand_params['Tstds'] + self.stand_params['Tmeans']\n",
        "\n",
        "    def get_Ws(self):\n",
        "        Ws = []\n",
        "        for layer in self.layers:\n",
        "            W_and_bias = list(layer.parameters())\n",
        "            W = W_and_bias[0].detach().numpy()\n",
        "            Wbias = W_and_bias[1].detach().numpy().T.reshape(1, -1)\n",
        "            if W.ndim == 4:\n",
        "                W = np.moveaxis(W, 0, 3)  # first dim is units. Move it to last, fourth, dim\n",
        "                n_units = Wbias.shape[-1]\n",
        "                W = W.reshape(-1, n_units)\n",
        "            else:\n",
        "                W = W.T\n",
        "            Ws.append(np.vstack((Wbias, W)))\n",
        "        return Ws\n",
        "        \n",
        "    def get_all_weights(self):\n",
        "        return torch.nn.utils.parameters_to_vector(self.parameters())\n",
        "\n",
        "    def set_all_weights(self, all_weights):\n",
        "        torch.nn.utils.vector_to_parameters(all_weights, self.parameters())"
      ],
      "execution_count": null,
      "outputs": []
    },
    {
      "cell_type": "code",
      "metadata": {
        "id": "bsVWqNihNSTT"
      },
      "source": [
        "######################################################################\n",
        "## NeuralNetworkClassifierTorch\n",
        "######################################################################\n",
        "\n",
        "class NeuralNetworkClassifierTorch(NeuralNetworkTorch):\n",
        "\n",
        "    def __init__(self, n_inputs, n_hiddens_list, n_outputs, device='cpu'):\n",
        "\n",
        "        if isinstance(n_inputs, list) or isinstance(n_inputs, tuple):\n",
        "            # n_inputs might be n_channels, n_rows, n_cols in 2-d input sample\n",
        "            # if defined for use in a Convolutional network\n",
        "            super().__init__(np.prod(n_inputs), n_hiddens_list, n_outputs, device)\n",
        "        else:\n",
        "            super().__init__(n_inputs, n_hiddens_list, n_outputs, device)\n",
        "\n",
        "        last_layer = self.layers[-1]\n",
        "        new_last_layer = torch.nn.Sequential(last_layer,\n",
        "                                             torch.nn.LogSoftmax(dim=1))  # across columns\n",
        "        self.layers = self.layers[:-1]\n",
        "        self.layers.append(new_last_layer)\n",
        "        # self.layers = self.layers[:-1] + new_last_layer\n",
        "\n",
        "    def __repr__(self):\n",
        "        return f'NeuralNetworkClassifierTorch({self.n_inputs}, {self.n_hiddens_list}, {self.n_outputs}, device={self.device})'\n",
        "\n",
        "    def train(self, Xtrain, Ttrain, n_epochs=10, learning_rate=0.01, method='adam', verbose=True, Xval=None, Tval=None):\n",
        "\n",
        "        if isinstance(Xtrain, np.ndarray):\n",
        "            Xtrain = torch.from_numpy(Xtrain.astype(np.float32))\n",
        "        if isinstance(Ttrain, np.ndarray):\n",
        "            Ttrain = torch.from_numpy(Ttrain.astype(np.float32))\n",
        "\n",
        "        if Xval is not None:\n",
        "            if isinstance(Xval, np.ndarray):\n",
        "                Xval = torch.from_numpy(Xval.astype(np.float32))\n",
        "            if isinstance(Tval, np.ndarray):\n",
        "                Tval = torch.from_numpy(Tval.astype(np.float32))\n",
        "\n",
        "        Ttrain = Ttrain.long().reshape(-1)  # pytorch expects 1D tensor as labels\n",
        "        if Xval is not None:\n",
        "            Tval = Tval.long().reshape(-1)\n",
        "        \n",
        "        self.stand_params = self.calc_standardize_parameters(Xtrain, None)\n",
        "        Xtrain = self.standardize_X(Xtrain)\n",
        "        if Xval is not None:\n",
        "            Xval = self.standardize_X(Xval)\n",
        "\n",
        "        self.classes, counts = Ttrain.unique(return_counts=True)\n",
        "        self.classes = self.classes.numpy()\n",
        "        # self.most_common_class = self.classes[np.argmax(counts)]  # not used\n",
        "\n",
        "        if method == 'sgd':\n",
        "            optimizer = torch.optim.SGD(self.parameters(), lr=learning_rate)\n",
        "        elif method == 'adam':\n",
        "            optimizer = torch.optim.Adam(self.parameters(), lr=learning_rate)\n",
        "        else:\n",
        "            print('train: method must be \\'sgd\\', or \\'adam\\'.')\n",
        "\n",
        "        neg_log_likelihood = torch.nn.NLLLoss()\n",
        "\n",
        "        self.best_epoch = None\n",
        "        best_nll = None\n",
        "        best_weights = self.get_all_weights()\n",
        "        \n",
        "        for epoch in range(n_epochs):\n",
        "\n",
        "            Ytrain = self.forward(Xtrain)[-1]  # to get last layer output as log(softmax(Y))\n",
        "            nll = neg_log_likelihood(Ytrain, Ttrain)\n",
        "\n",
        "            optimizer.zero_grad()\n",
        "            nll.backward()\n",
        "            optimizer.step()\n",
        "\n",
        "            self.error_trace.append((-nll).exp())\n",
        "            \n",
        "            if Xval is not None:\n",
        "                Yval = self.forward(Xval)[-1]\n",
        "                nll_val = neg_log_likelihood(Yval, Tval)\n",
        "                self.error_trace_val.append((-nll_val).exp())\n",
        "                \n",
        "                if best_nll is None or nll_val < best_nll:\n",
        "                    best_nll = nll_val\n",
        "                    best_weights = self.get_all_weights()\n",
        "                    # print(f'epoch {epoch} first w {best_weights[0]}, nll train {self.error_trace[-1]} val {self.error_trace_val[-1]}')\n",
        "                    self.best_epoch = epoch\n",
        "\n",
        "            if verbose and ((epoch+1) % (n_epochs // 10) == 0 or epoch == n_epochs - 1):\n",
        "                if Xval is not None:\n",
        "                    print(f'Epoch {epoch+1} LL train {self.error_trace[-1]:.4f} val {self.error_trace_val[-1]:.4f}')\n",
        "                else:\n",
        "                    print(f'Epoch {epoch+1} NLL {self.error_trace[-1]:.4f}')\n",
        "\n",
        "        if Xval is not None:\n",
        "            # print(f'done epoch {epoch} first w {self.get_all_weights()[0]}')\n",
        "            self.set_all_weights(best_weights)\n",
        "            # print(f'after done epoch {epoch} first w {self.get_all_weights()[0]}')\n",
        "\n",
        "        return self\n",
        "\n",
        "    def use(self, X, return_hidden_layer_outputs=False):\n",
        "        if isinstance(X, np.ndarray):\n",
        "            X = torch.from_numpy(X.astype(np.float32))\n",
        "\n",
        "        Xst = self.standardize_X(X)\n",
        "        Ys = self.forward(Xst)\n",
        "        Y = Ys[-1]\n",
        "        Zs = Ys[:-1]\n",
        "        probs = Y.detach().exp().cpu().numpy()  # ex() because net output is log(softmax())\n",
        "        Zs = [Z.detach().cpu().numpy() for Z in Zs]\n",
        "        classes = self.classes[np.argmax(probs, axis=1)].reshape(-1, 1)\n",
        "        return (classes, probs, Zs) if return_hidden_layer_outputs else (classes, probs)"
      ],
      "execution_count": null,
      "outputs": []
    },
    {
      "cell_type": "code",
      "metadata": {
        "id": "2jGa9IGRNG-b"
      },
      "source": [
        "######################################################################\n",
        "## NeuralNetworkClassifierConvolutionalTorch\n",
        "######################################################################\n",
        "\n",
        "class NeuralNetworkClassifierConvolutionalTorch(NeuralNetworkClassifierTorch):\n",
        "\n",
        "    def __init__(self, n_inputs, n_conv_list, n_fc_list, n_outputs, device='cpu'):\n",
        "        '''n_inputs: n_channels X n_rows X n_cols\n",
        "n_conv_list: list of tuples of (n_units, kernel_size, stride)'''\n",
        "\n",
        "        # Call constructor, but will discard the layers made and make new ones\n",
        "        super().__init__(n_inputs, n_fc_list, n_outputs, device)\n",
        "\n",
        "        self.n_channels, self.n_input_rows, self.n_input_cols = n_inputs\n",
        "        self.n_conv_list = n_conv_list\n",
        "        self.n_fc_list = n_fc_list\n",
        "        self.n_outputs = n_outputs\n",
        "        self.device = device\n",
        "\n",
        "        self.layers = torch.nn.ModuleList()\n",
        "        n_in_channels = self.n_channels\n",
        "        \n",
        "        output_rows, output_cols, output_channels = self.n_input_rows, self.n_input_cols, self.n_channels  # COMPLETE THIS\n",
        "        \n",
        "        for conv in n_conv_list:\n",
        "            n_units, kernel_size, stride = conv\n",
        "            (kernel_rows, kernel_cols) = (kernel_size, kernel_size) if np.isscalar(kernel_size) else kernel_size\n",
        "            (stride_rows, stride_cols) = (stride, stride) if np.isscalar(stride) else stride\n",
        "\n",
        "            self.layers.append(self._make_conv_layer(n_in_channels, n_units, kernel_size, stride))\n",
        "            n_in_channels = n_units\n",
        "\n",
        "            output_rows, output_cols, output_channels =  ((output_rows-kernel_rows)//stride_rows)+1, ((output_cols-kernel_cols)//stride_cols)+1, n_units  # COMPLETE THIS\n",
        "            print(output_rows, output_cols,)\n",
        "        # Add Flatten to output of last convolutional layer\n",
        "        self.layers[-1].add_module('flatten', torch.nn.Flatten())\n",
        "        \n",
        "        # Calculate the total number of inputs entering each unit in the first fully-connected layer\n",
        "        n_inputs = output_rows * output_cols * output_channels   # COMPLETE THIS\n",
        "\n",
        "        for n_units in n_fc_list:\n",
        "            self.layers.append(self._make_tanh_layer(n_inputs, n_units))\n",
        "            n_inputs = n_units\n",
        "            \n",
        "        self.layers.append(torch.nn.Sequential(torch.nn.Linear(n_inputs, n_outputs),\n",
        "                                               torch.nn.LogSoftmax(dim=1)))  # across columns\n",
        "\n",
        "    def _make_conv_layer(self, n_in_channels, n_units, kernel_size, stride):\n",
        "        return torch.nn.Sequential(torch.nn.Conv2d(n_in_channels, n_units, kernel_size, stride),\n",
        "                                   torch.nn.Tanh())\n",
        "\n",
        "    def __repr__(self):\n",
        "        return f'''NeuralNetworkClassifierConvolutionalTorch(n_inputs={self.n_inputs}, n_conv_list={self.n_conv_list}, n_fc_list={self.n_fc_list}, n_outputs={self.n_outputs}, device={self.device})'''"
      ],
      "execution_count": null,
      "outputs": []
    },
    {
      "cell_type": "code",
      "metadata": {
        "id": "LQEH3X4rt9CV"
      },
      "source": [
        "def partition(X, T, fractions, shuffle=True, classification=False):\n",
        "    \"\"\"Usage: Xtrain,Train,Xvalidate,Tvalidate,Xtest,Ttest = partition(X,T,(0.6,0.2,0.2),classification=True)\n",
        "      X is nSamples x nFeatures.\n",
        "      fractions can have just two values, for partitioning into train and test only\n",
        "      If classification=True, T is target class as integer. Data partitioned\n",
        "        according to class proportions.\n",
        "        \"\"\"\n",
        "    train_fraction = fractions[0]\n",
        "    if len(fractions) == 2:\n",
        "        # Skip the validation step\n",
        "        validate_fraction = 0\n",
        "        test_fraction = fractions[1]\n",
        "    else:\n",
        "        validate_fraction = fractions[1]\n",
        "        test_fraction = fractions[2]\n",
        "        \n",
        "    row_indices = np.arange(X.shape[0])\n",
        "    if shuffle:\n",
        "        np.random.shuffle(row_indices)\n",
        "    \n",
        "    if not classification:\n",
        "        # regression, so do not partition according to targets.\n",
        "        n = X.shape[0]\n",
        "        n_train = round(train_fraction * n)\n",
        "        n_validate = round(validate_fraction * n)\n",
        "        n_test = round(test_fraction * n)\n",
        "        if n_train + n_validate + n_test > n:\n",
        "            n_test = n - n_train - n_validate\n",
        "        Xtrain = X[row_indices[:n_train], :]\n",
        "        Ttrain = T[row_indices[:n_train], :]\n",
        "        if n_validate > 0:\n",
        "            Xvalidate = X[row_indices[n_train:n_train + n_validate], :]\n",
        "            Tvalidate = T[row_indices[n_train:n_train + n_validate], :]\n",
        "        Xtest = X[row_indices[n_train + n_validate:n_train + n_validate + n_test], :]\n",
        "        Ttest = T[row_indices[n_train + n_validate:n_train + n_validate + n_test], :]\n",
        "        \n",
        "    else:\n",
        "        # classifying, so partition data according to target class\n",
        "        classes = np.unique(T)\n",
        "        train_indices = []\n",
        "        validate_indices = []\n",
        "        test_indices = []\n",
        "        for c in classes:\n",
        "            # row indices for class c\n",
        "            rows_this_class = np.where(T[row_indices,:] == c)[0]\n",
        "            # collect row indices for class c for each partition\n",
        "            n = len(rows_this_class)\n",
        "            n_train = round(train_fraction * n)\n",
        "            n_validate = round(validate_fraction * n)\n",
        "            n_test = round(test_fraction * n)\n",
        "            if n_train + n_validate + n_test > n:\n",
        "                n_test = n - n_train - n_validate\n",
        "            train_indices += row_indices[rows_this_class[:n_train]].tolist()\n",
        "            if n_validate > 0:\n",
        "                validate_indices += row_indices[rows_this_class[n_train:n_train + n_validate]].tolist()\n",
        "            test_indices += row_indices[rows_this_class[n_train + n_validate:n_train + n_validate + n_test]].tolist()\n",
        "        Xtrain = X[train_indices, :]\n",
        "        Ttrain = T[train_indices, :]\n",
        "        if n_validate > 0:\n",
        "            Xvalidate = X[validate_indices, :]\n",
        "            Tvalidate = T[validate_indices, :]\n",
        "        Xtest = X[test_indices, :]\n",
        "        Ttest = T[test_indices, :]\n",
        "    if n_validate > 0:\n",
        "        return Xtrain, Ttrain, Xvalidate, Tvalidate, Xtest, Ttest\n",
        "    else:\n",
        "        return Xtrain, Ttrain, Xtest, Ttest"
      ],
      "execution_count": null,
      "outputs": []
    },
    {
      "cell_type": "code",
      "metadata": {
        "id": "QPZUdrqqCIEd"
      },
      "source": [
        "# def percent_correct(p, T):\n",
        "#     n=0\n",
        "#     for i in range(len(p)):\n",
        "#       if(p[i]==T[i]):\n",
        "#         n+=1\n",
        "#     return n*100/float(len(T))\n",
        "\n"
      ],
      "execution_count": null,
      "outputs": []
    },
    {
      "cell_type": "code",
      "metadata": {
        "id": "_9Ehoj-EoEB-"
      },
      "source": [
        "def percent_correct(Ytrain, Ttrain):\n",
        "    return np.mean(Ytrain[0] == Ttrain) * 100"
      ],
      "execution_count": null,
      "outputs": []
    },
    {
      "cell_type": "code",
      "metadata": {
        "id": "Oy3V_6dvCRkb"
      },
      "source": [
        ""
      ],
      "execution_count": null,
      "outputs": []
    },
    {
      "cell_type": "code",
      "metadata": {
        "id": "TrUP7Ohht-3J"
      },
      "source": [
        "def multiple_runs_regression(n_partitions, X, T, fractions, n_hiddens_list, n_epochs, learning_rate):\n",
        "    \n",
        "    def rmse(Y, T):\n",
        "        return np.sqrt(np.mean((T - Y) ** 2))\n",
        "\n",
        "    print(f'Structure {n_hiddens_list}: Repetition', end=' ')\n",
        "    results = []\n",
        "    for rep in range(n_partitions):\n",
        "        \n",
        "        print(f'{rep + 1}', end=' ')\n",
        "        \n",
        "        Xtrain, Ttrain, Xval, Tval, Xtest, Ttest = partition(X, T, fractions,\n",
        "                                                             shuffle=True, classification=False)\n",
        "        \n",
        "        nnet = NeuralNetworkTorch(X.shape[1], n_hiddens_list, T.shape[1])\n",
        "        nnet.train(Xtrain, Ttrain, n_epochs, learning_rate, method='adam', Xval=Xval, Tval=Tval, verbose=False)\n",
        "        \n",
        "        Ytrain = nnet.use(Xtrain)\n",
        "        Yval = nnet.use(Xval)\n",
        "        Ytest = nnet.use(Xtest)\n",
        "        \n",
        "        structure = str(n_hiddens_list)\n",
        "        results.extend([[structure, 'train', rmse(Ytrain, Ttrain)],\n",
        "                        [structure, 'validation', rmse(Yval, Tval)],\n",
        "                        [structure, 'test', rmse(Ytest, Ttest)]])\n",
        "    print()\n",
        "    return results"
      ],
      "execution_count": null,
      "outputs": []
    },
    {
      "cell_type": "markdown",
      "metadata": {
        "id": "vyYW-WI5KwtC"
      },
      "source": [
        "Here is another function that you must use to analyze the performance for your two classification problems."
      ]
    },
    {
      "cell_type": "code",
      "metadata": {
        "ExecuteTime": {
          "end_time": "2020-11-06T23:15:15.993708Z",
          "start_time": "2020-11-06T23:15:15.991020Z"
        },
        "id": "sU88REejKwtC"
      },
      "source": [
        "def confusion_matrix(Y_classes, T):\n",
        "    class_names = np.unique(T)\n",
        "    table = []\n",
        "    for true_class in class_names:\n",
        "        row = []\n",
        "        for Y_class in class_names:\n",
        "            row.append(100 * np.mean(Y_classes[T == true_class] == Y_class))\n",
        "        table.append(row)\n",
        "    conf_matrix = pd.DataFrame(table, index=class_names, columns=class_names)\n",
        "    conf_matrix.style.background_gradient(cmap='Blues').format(\"{:.1f}\")\n",
        "    print(f'Percent Correct is {percent_correct(Y_classes, T)}')\n",
        "    return conf_matrix"
      ],
      "execution_count": null,
      "outputs": []
    },
    {
      "cell_type": "markdown",
      "metadata": {
        "id": "8w_LfBJ7KwtC"
      },
      "source": [
        "Here are examples of running `multiple_runs_classification` and `multiple_runs_convolutional`."
      ]
    },
    {
      "cell_type": "code",
      "metadata": {
        "id": "Fxnqoe2oC0gX"
      },
      "source": [
        "def multiple_runs_classification(n_partitions, X, T, fractions, n_hiddens_list, n_epochs, learning_rate):\n",
        "    \n",
        "    \n",
        "\n",
        "    print(f'Structure {n_hiddens_list}: Repetition', end=' ')\n",
        "    results = []\n",
        "    for rep in range(n_partitions):\n",
        "        \n",
        "        print(f'{rep + 1}', end=' ')\n",
        "        \n",
        "        Xtrain, Ttrain, Xval, Tval, Xtest, Ttest = partition(X, T, fractions,\n",
        "                                                             shuffle=True, classification=True)\n",
        "        \n",
        "      \n",
        "        \n",
        "        nnet = NeuralNetworkClassifierTorch(X.shape[1], n_hiddens_list, len(np.unique(T)))\n",
        "        nnet.train(Xtrain, Ttrain, n_epochs, learning_rate, method='adam', Xval=Xval, Tval=Tval, verbose=False)\n",
        "        \n",
        "        Ytrain = nnet.use(Xtrain)\n",
        "        Yval = nnet.use(Xval)\n",
        "        Ytest = nnet.use(Xtest)\n",
        "        \n",
        "        structure = str(n_hiddens_list)\n",
        "        results.extend([[structure, 'train', percent_correct(Ytrain, Ttrain)],\n",
        "                        [structure, 'validation', percent_correct(Yval, Tval)],\n",
        "                        [structure, 'test', percent_correct(Ytest, Ttest)]])\n",
        "    print()\n",
        "    return results"
      ],
      "execution_count": null,
      "outputs": []
    },
    {
      "cell_type": "code",
      "metadata": {
        "id": "nz-x3Q5HHQVS"
      },
      "source": [
        ""
      ],
      "execution_count": null,
      "outputs": []
    },
    {
      "cell_type": "code",
      "metadata": {
        "id": "JbeNj_AwIuZf"
      },
      "source": [
        "def multiple_runs_convolutional(n_partitions, X, T, fractions, n_conv, n_hiddens, n_epochs, learning_rate):\n",
        "    \n",
        "\n",
        "\n",
        "    print(f'conv {n_conv}  FC: {n_hiddens}, :Repetition', end=' ')\n",
        "    results = []\n",
        "\n",
        "    for rep in range(n_partitions):\n",
        "        \n",
        "        print(f'{rep + 1}', end=' ')\n",
        "        \n",
        "        Xtrain, Ttrain, Xval, Tval, Xtest, Ttest = partition(X, T, fractions,\n",
        "                                                             shuffle=True, classification=True)\n",
        "        \n",
        "        \n",
        "        nnet = NeuralNetworkClassifierConvolutionalTorch(list(X.shape[1:]), n_conv, n_hiddens, len(np.unique(T)))\n",
        "        nnet.train(Xtrain, Ttrain, n_epochs, learning_rate, method='adam', Xval=Xval, Tval=Tval, verbose=False)\n",
        "        \n",
        "        Ytrain = nnet.use(Xtrain)\n",
        "        Yval = nnet.use(Xval)\n",
        "        Ytest = nnet.use(Xtest)\n",
        "        \n",
        "        structure = str(n_conv)+' '+str(n_hiddens)\n",
        "        results.extend([[structure, 'train', percent_correct(Ytrain, Ttrain)],\n",
        "                        [structure, 'validation', percent_correct(Yval, Tval)],\n",
        "                        [structure, 'test', percent_correct(Ytest, Ttest)]])\n",
        "\n",
        "    print()\n",
        "    return results"
      ],
      "execution_count": null,
      "outputs": []
    },
    {
      "cell_type": "code",
      "metadata": {
        "ExecuteTime": {
          "end_time": "2020-11-06T23:15:16.053723Z",
          "start_time": "2020-11-06T23:15:15.994661Z"
        },
        "colab": {
          "base_uri": "https://localhost:8080/"
        },
        "id": "vw-RExJlKwtC",
        "outputId": "bca17a53-8263-41b7-84b0-02f4feafc4e7"
      },
      "source": [
        "def makeImages(nEach):\n",
        "    images = np.zeros((nEach * 2, 1, 20, 20))  # nSamples, nChannels, rows, columns\n",
        "    radii = 3 + np.random.randint(10 - 5, size=(nEach * 2, 1))\n",
        "    centers = np.zeros((nEach * 2, 2))\n",
        "    for i in range(nEach * 2):\n",
        "        r = radii[i, 0]\n",
        "        centers[i, :] = r + 1 + np.random.randint(18 - 2 * r, size=(1, 2))\n",
        "        x = int(centers[i, 0])\n",
        "        y = int(centers[i, 1])\n",
        "        if i < nEach:\n",
        "            # squares\n",
        "            images[i, 0, x - r:x + r, y + r] = 1.0\n",
        "            images[i, 0, x - r:x + r, y - r] = 1.0\n",
        "            images[i, 0, x - r, y - r:y + r] = 1.0\n",
        "            images[i, 0, x + r, y - r:y + r + 1] = 1.0\n",
        "        else:\n",
        "            # diamonds\n",
        "            images[i, 0, range(x - r, x), range(y, y + r)] = 1.0\n",
        "            images[i, 0, range(x - r, x), range(y, y - r, -1)] = 1.0\n",
        "            images[i, 0, range(x, x + r + 1), range(y + r, y - 1, -1)] = 1.0\n",
        "            images[i, 0, range(x, x + r), range(y - r, y)] = 1.0\n",
        "            # images += np.random.randn(*images.shape) * 0.5\n",
        "        T = np.zeros((nEach * 2, 1))\n",
        "        T[nEach:] = 1\n",
        "    return images, T\n",
        "\n",
        "nEach = 500\n",
        "X, T = makeImages(nEach)\n",
        "Xflat = X.reshape(X.shape[0], -1)\n",
        "Xflat.shape, T.shape"
      ],
      "execution_count": null,
      "outputs": [
        {
          "output_type": "execute_result",
          "data": {
            "text/plain": [
              "((1000, 400), (1000, 1))"
            ]
          },
          "metadata": {
            "tags": []
          },
          "execution_count": 159
        }
      ]
    },
    {
      "cell_type": "code",
      "metadata": {
        "ExecuteTime": {
          "end_time": "2020-11-06T23:15:38.784561Z",
          "start_time": "2020-11-06T23:15:16.054596Z"
        },
        "colab": {
          "base_uri": "https://localhost:8080/"
        },
        "id": "z2znDNbiKwtE",
        "outputId": "f5fa31ea-1185-4521-f999-9e6366ccb642"
      },
      "source": [
        "import pandas as pd\n",
        "fractions = (0.6, 0.2, 0.2)\n",
        "n_hiddens_list = [[], [2], [5], [10], [20, 20]]  # Notice the first one... []\n",
        "n_epochs = 500\n",
        "learning_rate = 0.01\n",
        "\n",
        "n_partitions = 10\n",
        "\n",
        "results = []\n",
        "for nh in n_hiddens_list:\n",
        "    results.extend(multiple_runs_classification(n_partitions, Xflat, T, fractions, nh, n_epochs, learning_rate))\n",
        "    \n",
        "resultsdf = pd.DataFrame(results, columns=('Structure', 'Partition', 'RMSE'))"
      ],
      "execution_count": null,
      "outputs": [
        {
          "output_type": "stream",
          "text": [
            "Structure []: Repetition 1 2 3 4 5 6 7 8 9 10 \n",
            "Structure [2]: Repetition 1 2 3 4 5 6 7 8 9 10 \n",
            "Structure [5]: Repetition 1 2 3 4 5 6 7 8 9 10 \n",
            "Structure [10]: Repetition 1 2 3 4 5 6 7 8 9 10 \n",
            "Structure [20, 20]: Repetition 1 2 3 4 5 6 7 8 9 10 \n"
          ],
          "name": "stdout"
        }
      ]
    },
    {
      "cell_type": "code",
      "metadata": {
        "ExecuteTime": {
          "end_time": "2020-11-06T23:15:39.339147Z",
          "start_time": "2020-11-06T23:15:38.793690Z"
        },
        "scrolled": false,
        "id": "fUZcrS_oKwtF",
        "colab": {
          "base_uri": "https://localhost:8080/",
          "height": 606
        },
        "outputId": "0e966179-6fee-4633-b673-d779a5e58b03"
      },
      "source": [
        "import seaborn as sns\n",
        "\n",
        "plt.figure(figsize=(12, 10))\n",
        "sns.violinplot(x='Structure', y='RMSE', hue='Partition', data=resultsdf)\n",
        "for x in range(len(n_hiddens_list) - 1):\n",
        "    plt.axvline(x + 0.5, color='r', linestyle='--', alpha=0.5)"
      ],
      "execution_count": null,
      "outputs": [
        {
          "output_type": "display_data",
          "data": {
            "image/png": "[encoded data removed]",
            "text/plain": [
              "<Figure size 864x720 with 1 Axes>"
            ]
          },
          "metadata": {
            "tags": [],
            "needs_background": "light"
          }
        }
      ]
    },
    {
      "cell_type": "markdown",
      "metadata": {
        "id": "9npla2snKwtF"
      },
      "source": [
        "Based on results in violin plots, pick best network structure (according to performance in validation data) and train a network using that structure.  Then apply the trained network using `nnet.use` on the training, validation and testing partitions.  Report the performance of each, and, for classification problems, show the confusion matrices.  See examples below."
      ]
    },
    {
      "cell_type": "code",
      "metadata": {
        "ExecuteTime": {
          "end_time": "2020-11-06T23:15:40.081938Z",
          "start_time": "2020-11-06T23:15:39.340041Z"
        },
        "id": "kqN_X9yVKwtF",
        "colab": {
          "base_uri": "https://localhost:8080/"
        },
        "outputId": "9b61df72-30f0-4271-daad-803dafc615ec"
      },
      "source": [
        "nnet = NeuralNetworkClassifierTorch(Xflat.shape[1], [10], len(np.unique(T)))\n",
        "Xtrain, Ttrain, Xval, Tval, Xtest, Ttest = partition(Xflat, T, (0.6, 0.2, 0.2),\n",
        "                                         shuffle=True, classification=True)\n",
        "nnet.train(Xtrain, Ttrain, n_epochs, learning_rate, method='adam', Xval=Xval, Tval=Tval, verbose=True)"
      ],
      "execution_count": null,
      "outputs": [
        {
          "output_type": "stream",
          "text": [
            "Epoch 50 LL train 0.9947 val 0.8074\n",
            "Epoch 100 LL train 0.9983 val 0.7817\n",
            "Epoch 150 LL train 0.9989 val 0.7671\n",
            "Epoch 200 LL train 0.9992 val 0.7547\n",
            "Epoch 250 LL train 0.9994 val 0.7442\n",
            "Epoch 300 LL train 0.9995 val 0.7349\n",
            "Epoch 350 LL train 0.9996 val 0.7264\n",
            "Epoch 400 LL train 0.9997 val 0.7195\n",
            "Epoch 450 LL train 0.9997 val 0.7140\n",
            "Epoch 500 LL train 0.9998 val 0.7090\n"
          ],
          "name": "stdout"
        },
        {
          "output_type": "execute_result",
          "data": {
            "text/plain": [
              "NeuralNetworkClassifierTorch(400, [10], 2, device=cpu)"
            ]
          },
          "metadata": {
            "tags": []
          },
          "execution_count": 162
        }
      ]
    },
    {
      "cell_type": "code",
      "metadata": {
        "ExecuteTime": {
          "end_time": "2020-11-06T23:15:40.224876Z",
          "start_time": "2020-11-06T23:15:40.086459Z"
        },
        "id": "-Hgzj4aJKwtF",
        "colab": {
          "base_uri": "https://localhost:8080/",
          "height": 128
        },
        "outputId": "29affc25-37f1-49b0-d709-9eaf49d682ee"
      },
      "source": [
        "C_train, P_train = nnet.use(Xtrain)\n",
        "confusion_matrix(C_train, Ttrain)"
      ],
      "execution_count": null,
      "outputs": [
        {
          "output_type": "stream",
          "text": [
            "Percent Correct is 50.0\n"
          ],
          "name": "stdout"
        },
        {
          "output_type": "execute_result",
          "data": {
            "text/html": [
              "<div>\n",
              "<style scoped>\n",
              "    .dataframe tbody tr th:only-of-type {\n",
              "        vertical-align: middle;\n",
              "    }\n",
              "\n",
              "    .dataframe tbody tr th {\n",
              "        vertical-align: top;\n",
              "    }\n",
              "\n",
              "    .dataframe thead th {\n",
              "        text-align: right;\n",
              "    }\n",
              "</style>\n",
              "<table border=\"1\" class=\"dataframe\">\n",
              "  <thead>\n",
              "    <tr style=\"text-align: right;\">\n",
              "      <th></th>\n",
              "      <th>0.0</th>\n",
              "      <th>1.0</th>\n",
              "    </tr>\n",
              "  </thead>\n",
              "  <tbody>\n",
              "    <tr>\n",
              "      <th>0.0</th>\n",
              "      <td>99.333333</td>\n",
              "      <td>0.666667</td>\n",
              "    </tr>\n",
              "    <tr>\n",
              "      <th>1.0</th>\n",
              "      <td>0.000000</td>\n",
              "      <td>100.000000</td>\n",
              "    </tr>\n",
              "  </tbody>\n",
              "</table>\n",
              "</div>"
            ],
            "text/plain": [
              "           0.0         1.0\n",
              "0.0  99.333333    0.666667\n",
              "1.0   0.000000  100.000000"
            ]
          },
          "metadata": {
            "tags": []
          },
          "execution_count": 163
        }
      ]
    },
    {
      "cell_type": "code",
      "metadata": {
        "ExecuteTime": {
          "end_time": "2020-11-06T23:15:40.240134Z",
          "start_time": "2020-11-06T23:15:40.228482Z"
        },
        "id": "xkEUeVaIKwtF",
        "colab": {
          "base_uri": "https://localhost:8080/",
          "height": 128
        },
        "outputId": "148e3663-5101-4e2b-8562-35544f568af4"
      },
      "source": [
        "C_val, P_val = nnet.use(Xval)\n",
        "confusion_matrix(C_val, Tval)"
      ],
      "execution_count": null,
      "outputs": [
        {
          "output_type": "stream",
          "text": [
            "Percent Correct is 50.0\n"
          ],
          "name": "stdout"
        },
        {
          "output_type": "execute_result",
          "data": {
            "text/html": [
              "<div>\n",
              "<style scoped>\n",
              "    .dataframe tbody tr th:only-of-type {\n",
              "        vertical-align: middle;\n",
              "    }\n",
              "\n",
              "    .dataframe tbody tr th {\n",
              "        vertical-align: top;\n",
              "    }\n",
              "\n",
              "    .dataframe thead th {\n",
              "        text-align: right;\n",
              "    }\n",
              "</style>\n",
              "<table border=\"1\" class=\"dataframe\">\n",
              "  <thead>\n",
              "    <tr style=\"text-align: right;\">\n",
              "      <th></th>\n",
              "      <th>0.0</th>\n",
              "      <th>1.0</th>\n",
              "    </tr>\n",
              "  </thead>\n",
              "  <tbody>\n",
              "    <tr>\n",
              "      <th>0.0</th>\n",
              "      <td>92.0</td>\n",
              "      <td>8.0</td>\n",
              "    </tr>\n",
              "    <tr>\n",
              "      <th>1.0</th>\n",
              "      <td>0.0</td>\n",
              "      <td>100.0</td>\n",
              "    </tr>\n",
              "  </tbody>\n",
              "</table>\n",
              "</div>"
            ],
            "text/plain": [
              "      0.0    1.0\n",
              "0.0  92.0    8.0\n",
              "1.0   0.0  100.0"
            ]
          },
          "metadata": {
            "tags": []
          },
          "execution_count": 164
        }
      ]
    },
    {
      "cell_type": "code",
      "metadata": {
        "ExecuteTime": {
          "end_time": "2020-11-06T23:15:40.256290Z",
          "start_time": "2020-11-06T23:15:40.243927Z"
        },
        "id": "gdXXB3xhKwtF",
        "colab": {
          "base_uri": "https://localhost:8080/",
          "height": 128
        },
        "outputId": "b96deb60-9198-48f7-87c7-83a089d50678"
      },
      "source": [
        "C_test, P_test = nnet.use(Xtest)\n",
        "confusion_matrix(C_test, Ttest)"
      ],
      "execution_count": null,
      "outputs": [
        {
          "output_type": "stream",
          "text": [
            "Percent Correct is 50.0\n"
          ],
          "name": "stdout"
        },
        {
          "output_type": "execute_result",
          "data": {
            "text/html": [
              "<div>\n",
              "<style scoped>\n",
              "    .dataframe tbody tr th:only-of-type {\n",
              "        vertical-align: middle;\n",
              "    }\n",
              "\n",
              "    .dataframe tbody tr th {\n",
              "        vertical-align: top;\n",
              "    }\n",
              "\n",
              "    .dataframe thead th {\n",
              "        text-align: right;\n",
              "    }\n",
              "</style>\n",
              "<table border=\"1\" class=\"dataframe\">\n",
              "  <thead>\n",
              "    <tr style=\"text-align: right;\">\n",
              "      <th></th>\n",
              "      <th>0.0</th>\n",
              "      <th>1.0</th>\n",
              "    </tr>\n",
              "  </thead>\n",
              "  <tbody>\n",
              "    <tr>\n",
              "      <th>0.0</th>\n",
              "      <td>87.0</td>\n",
              "      <td>13.0</td>\n",
              "    </tr>\n",
              "    <tr>\n",
              "      <th>1.0</th>\n",
              "      <td>1.0</td>\n",
              "      <td>99.0</td>\n",
              "    </tr>\n",
              "  </tbody>\n",
              "</table>\n",
              "</div>"
            ],
            "text/plain": [
              "      0.0   1.0\n",
              "0.0  87.0  13.0\n",
              "1.0   1.0  99.0"
            ]
          },
          "metadata": {
            "tags": []
          },
          "execution_count": 165
        }
      ]
    },
    {
      "cell_type": "code",
      "metadata": {
        "ExecuteTime": {
          "end_time": "2020-11-06T23:17:57.684233Z",
          "start_time": "2020-11-06T23:15:40.260527Z"
        },
        "id": "15vVXvysKwtF",
        "colab": {
          "base_uri": "https://localhost:8080/",
          "height": 714
        },
        "outputId": "11de4f44-d2fb-4b6a-c103-a9bef2943b09"
      },
      "source": [
        "fractions = (0.6, 0.2, 0.2)\n",
        "n_conv_list = [ [(5, (3, 3), (1, 1))],\n",
        "                [(5, (3, 3), (1, 1)), (4, (4, 4), (2, 2))]\n",
        "              ]\n",
        "n_fc_list = [[], [5], [10, 10]]  # Notice the first one... []\n",
        "n_epochs = 200\n",
        "learning_rate = 0.01\n",
        "\n",
        "n_partitions = 10\n",
        "\n",
        "results = []\n",
        "for nconv in n_conv_list:\n",
        "    for nfc in n_fc_list:\n",
        "        results.extend(multiple_runs_convolutional(n_partitions, X, T, fractions, nconv, nfc, n_epochs, learning_rate))\n",
        "    \n",
        "resultsdf = pd.DataFrame(results, columns=('Structure', 'Partition', 'RMSE'))"
      ],
      "execution_count": null,
      "outputs": [
        {
          "output_type": "stream",
          "text": [
            "conv [(5, (3, 3), (1, 1))]  FC: [], :Repetition 1 18 18\n",
            "2 18 18\n",
            "3 18 18\n",
            "4 18 18\n",
            "5 18 18\n",
            "6 18 18\n",
            "7 18 18\n",
            "8 18 18\n",
            "9 18 18\n",
            "10 18 18\n",
            "\n",
            "conv [(5, (3, 3), (1, 1))]  FC: [5], :Repetition 1 18 18\n",
            "2 18 18\n",
            "3 18 18\n",
            "4 18 18\n",
            "5 18 18\n",
            "6 18 18\n",
            "7 18 18\n",
            "8 18 18\n"
          ],
          "name": "stdout"
        },
        {
          "output_type": "error",
          "ename": "KeyboardInterrupt",
          "evalue": "ignored",
          "traceback": [
            "\u001b[0;31m---------------------------------------------------------------------------\u001b[0m",
            "\u001b[0;31mKeyboardInterrupt\u001b[0m                         Traceback (most recent call last)",
            "\u001b[0;32m/content/A5grader.py\u001b[0m in \u001b[0;36m<module>\u001b[0;34m()\u001b[0m\n\u001b[1;32m     12\u001b[0m \u001b[0;32mfor\u001b[0m \u001b[0mnconv\u001b[0m \u001b[0;32min\u001b[0m \u001b[0mn_conv_list\u001b[0m\u001b[0;34m:\u001b[0m\u001b[0;34m\u001b[0m\u001b[0;34m\u001b[0m\u001b[0m\n\u001b[1;32m     13\u001b[0m     \u001b[0;32mfor\u001b[0m \u001b[0mnfc\u001b[0m \u001b[0;32min\u001b[0m \u001b[0mn_fc_list\u001b[0m\u001b[0;34m:\u001b[0m\u001b[0;34m\u001b[0m\u001b[0;34m\u001b[0m\u001b[0m\n\u001b[0;32m---> 14\u001b[0;31m         \u001b[0mresults\u001b[0m\u001b[0;34m.\u001b[0m\u001b[0mextend\u001b[0m\u001b[0;34m(\u001b[0m\u001b[0mmultiple_runs_convolutional\u001b[0m\u001b[0;34m(\u001b[0m\u001b[0mn_partitions\u001b[0m\u001b[0;34m,\u001b[0m \u001b[0mX\u001b[0m\u001b[0;34m,\u001b[0m \u001b[0mT\u001b[0m\u001b[0;34m,\u001b[0m \u001b[0mfractions\u001b[0m\u001b[0;34m,\u001b[0m \u001b[0mnconv\u001b[0m\u001b[0;34m,\u001b[0m \u001b[0mnfc\u001b[0m\u001b[0;34m,\u001b[0m \u001b[0mn_epochs\u001b[0m\u001b[0;34m,\u001b[0m \u001b[0mlearning_rate\u001b[0m\u001b[0;34m)\u001b[0m\u001b[0;34m)\u001b[0m\u001b[0;34m\u001b[0m\u001b[0;34m\u001b[0m\u001b[0m\n\u001b[0m\u001b[1;32m     15\u001b[0m \u001b[0;34m\u001b[0m\u001b[0m\n\u001b[1;32m     16\u001b[0m \u001b[0mresultsdf\u001b[0m \u001b[0;34m=\u001b[0m \u001b[0mpd\u001b[0m\u001b[0;34m.\u001b[0m\u001b[0mDataFrame\u001b[0m\u001b[0;34m(\u001b[0m\u001b[0mresults\u001b[0m\u001b[0;34m,\u001b[0m \u001b[0mcolumns\u001b[0m\u001b[0;34m=\u001b[0m\u001b[0;34m(\u001b[0m\u001b[0;34m'Structure'\u001b[0m\u001b[0;34m,\u001b[0m \u001b[0;34m'Partition'\u001b[0m\u001b[0;34m,\u001b[0m \u001b[0;34m'RMSE'\u001b[0m\u001b[0;34m)\u001b[0m\u001b[0;34m)\u001b[0m\u001b[0;34m\u001b[0m\u001b[0;34m\u001b[0m\u001b[0m\n",
            "\u001b[0;32m/content/A5grader.py\u001b[0m in \u001b[0;36mmultiple_runs_convolutional\u001b[0;34m(n_partitions, X, T, fractions, n_conv, n_hiddens, n_epochs, learning_rate)\u001b[0m\n\u001b[1;32m     15\u001b[0m \u001b[0;34m\u001b[0m\u001b[0m\n\u001b[1;32m     16\u001b[0m         \u001b[0mnnet\u001b[0m \u001b[0;34m=\u001b[0m \u001b[0mNeuralNetworkClassifierConvolutionalTorch\u001b[0m\u001b[0;34m(\u001b[0m\u001b[0mlist\u001b[0m\u001b[0;34m(\u001b[0m\u001b[0mX\u001b[0m\u001b[0;34m.\u001b[0m\u001b[0mshape\u001b[0m\u001b[0;34m[\u001b[0m\u001b[0;36m1\u001b[0m\u001b[0;34m:\u001b[0m\u001b[0;34m]\u001b[0m\u001b[0;34m)\u001b[0m\u001b[0;34m,\u001b[0m \u001b[0mn_conv\u001b[0m\u001b[0;34m,\u001b[0m \u001b[0mn_hiddens\u001b[0m\u001b[0;34m,\u001b[0m \u001b[0mlen\u001b[0m\u001b[0;34m(\u001b[0m\u001b[0mnp\u001b[0m\u001b[0;34m.\u001b[0m\u001b[0munique\u001b[0m\u001b[0;34m(\u001b[0m\u001b[0mT\u001b[0m\u001b[0;34m)\u001b[0m\u001b[0;34m)\u001b[0m\u001b[0;34m)\u001b[0m\u001b[0;34m\u001b[0m\u001b[0;34m\u001b[0m\u001b[0m\n\u001b[0;32m---> 17\u001b[0;31m         \u001b[0mnnet\u001b[0m\u001b[0;34m.\u001b[0m\u001b[0mtrain\u001b[0m\u001b[0;34m(\u001b[0m\u001b[0mXtrain\u001b[0m\u001b[0;34m,\u001b[0m \u001b[0mTtrain\u001b[0m\u001b[0;34m,\u001b[0m \u001b[0mn_epochs\u001b[0m\u001b[0;34m,\u001b[0m \u001b[0mlearning_rate\u001b[0m\u001b[0;34m,\u001b[0m \u001b[0mmethod\u001b[0m\u001b[0;34m=\u001b[0m\u001b[0;34m'adam'\u001b[0m\u001b[0;34m,\u001b[0m \u001b[0mXval\u001b[0m\u001b[0;34m=\u001b[0m\u001b[0mXval\u001b[0m\u001b[0;34m,\u001b[0m \u001b[0mTval\u001b[0m\u001b[0;34m=\u001b[0m\u001b[0mTval\u001b[0m\u001b[0;34m,\u001b[0m \u001b[0mverbose\u001b[0m\u001b[0;34m=\u001b[0m\u001b[0;32mFalse\u001b[0m\u001b[0;34m)\u001b[0m\u001b[0;34m\u001b[0m\u001b[0;34m\u001b[0m\u001b[0m\n\u001b[0m\u001b[1;32m     18\u001b[0m \u001b[0;34m\u001b[0m\u001b[0m\n\u001b[1;32m     19\u001b[0m         \u001b[0mYtrain\u001b[0m \u001b[0;34m=\u001b[0m \u001b[0mnnet\u001b[0m\u001b[0;34m.\u001b[0m\u001b[0muse\u001b[0m\u001b[0;34m(\u001b[0m\u001b[0mXtrain\u001b[0m\u001b[0;34m)\u001b[0m\u001b[0;34m\u001b[0m\u001b[0;34m\u001b[0m\u001b[0m\n",
            "\u001b[0;32m/content/A5grader.py\u001b[0m in \u001b[0;36mtrain\u001b[0;34m(self, Xtrain, Ttrain, n_epochs, learning_rate, method, verbose, Xval, Tval)\u001b[0m\n\u001b[1;32m     68\u001b[0m             \u001b[0mnll\u001b[0m \u001b[0;34m=\u001b[0m \u001b[0mneg_log_likelihood\u001b[0m\u001b[0;34m(\u001b[0m\u001b[0mYtrain\u001b[0m\u001b[0;34m,\u001b[0m \u001b[0mTtrain\u001b[0m\u001b[0;34m)\u001b[0m\u001b[0;34m\u001b[0m\u001b[0;34m\u001b[0m\u001b[0m\n\u001b[1;32m     69\u001b[0m \u001b[0;34m\u001b[0m\u001b[0m\n\u001b[0;32m---> 70\u001b[0;31m             \u001b[0moptimizer\u001b[0m\u001b[0;34m.\u001b[0m\u001b[0mzero_grad\u001b[0m\u001b[0;34m(\u001b[0m\u001b[0;34m)\u001b[0m\u001b[0;34m\u001b[0m\u001b[0;34m\u001b[0m\u001b[0m\n\u001b[0m\u001b[1;32m     71\u001b[0m             \u001b[0mnll\u001b[0m\u001b[0;34m.\u001b[0m\u001b[0mbackward\u001b[0m\u001b[0;34m(\u001b[0m\u001b[0;34m)\u001b[0m\u001b[0;34m\u001b[0m\u001b[0;34m\u001b[0m\u001b[0m\n\u001b[1;32m     72\u001b[0m             \u001b[0moptimizer\u001b[0m\u001b[0;34m.\u001b[0m\u001b[0mstep\u001b[0m\u001b[0;34m(\u001b[0m\u001b[0;34m)\u001b[0m\u001b[0;34m\u001b[0m\u001b[0;34m\u001b[0m\u001b[0m\n",
            "\u001b[0;32m/usr/local/lib/python3.6/dist-packages/torch/optim/optimizer.py\u001b[0m in \u001b[0;36mzero_grad\u001b[0;34m(self, set_to_none)\u001b[0m\n\u001b[1;32m    190\u001b[0m                         \u001b[0;32melse\u001b[0m\u001b[0;34m:\u001b[0m\u001b[0;34m\u001b[0m\u001b[0;34m\u001b[0m\u001b[0m\n\u001b[1;32m    191\u001b[0m                             \u001b[0mp\u001b[0m\u001b[0;34m.\u001b[0m\u001b[0mgrad\u001b[0m\u001b[0;34m.\u001b[0m\u001b[0mrequires_grad_\u001b[0m\u001b[0;34m(\u001b[0m\u001b[0;32mFalse\u001b[0m\u001b[0;34m)\u001b[0m\u001b[0;34m\u001b[0m\u001b[0;34m\u001b[0m\u001b[0m\n\u001b[0;32m--> 192\u001b[0;31m                         \u001b[0mp\u001b[0m\u001b[0;34m.\u001b[0m\u001b[0mgrad\u001b[0m\u001b[0;34m.\u001b[0m\u001b[0mzero_\u001b[0m\u001b[0;34m(\u001b[0m\u001b[0;34m)\u001b[0m\u001b[0;34m\u001b[0m\u001b[0;34m\u001b[0m\u001b[0m\n\u001b[0m\u001b[1;32m    193\u001b[0m \u001b[0;34m\u001b[0m\u001b[0m\n\u001b[1;32m    194\u001b[0m     \u001b[0;32mdef\u001b[0m \u001b[0mstep\u001b[0m\u001b[0;34m(\u001b[0m\u001b[0mself\u001b[0m\u001b[0;34m,\u001b[0m \u001b[0mclosure\u001b[0m\u001b[0;34m)\u001b[0m\u001b[0;34m:\u001b[0m\u001b[0;34m\u001b[0m\u001b[0;34m\u001b[0m\u001b[0m\n",
            "\u001b[0;32m/usr/local/lib/python3.6/dist-packages/torch/tensor.py\u001b[0m in \u001b[0;36mgrad\u001b[0;34m(self)\u001b[0m\n\u001b[1;32m    941\u001b[0m         \u001b[0mrelevant_args\u001b[0m \u001b[0;34m=\u001b[0m \u001b[0;34m(\u001b[0m\u001b[0mself\u001b[0m\u001b[0;34m,\u001b[0m\u001b[0;34m)\u001b[0m\u001b[0;34m\u001b[0m\u001b[0;34m\u001b[0m\u001b[0m\n\u001b[1;32m    942\u001b[0m         \u001b[0;32mfrom\u001b[0m \u001b[0mtorch\u001b[0m\u001b[0;34m.\u001b[0m\u001b[0moverrides\u001b[0m \u001b[0;32mimport\u001b[0m \u001b[0mhas_torch_function\u001b[0m\u001b[0;34m,\u001b[0m \u001b[0mhandle_torch_function\u001b[0m\u001b[0;34m\u001b[0m\u001b[0;34m\u001b[0m\u001b[0m\n\u001b[0;32m--> 943\u001b[0;31m         \u001b[0;32mif\u001b[0m \u001b[0mtype\u001b[0m\u001b[0;34m(\u001b[0m\u001b[0mself\u001b[0m\u001b[0;34m)\u001b[0m \u001b[0;32mis\u001b[0m \u001b[0;32mnot\u001b[0m \u001b[0mTensor\u001b[0m \u001b[0;32mand\u001b[0m \u001b[0mhas_torch_function\u001b[0m\u001b[0;34m(\u001b[0m\u001b[0mrelevant_args\u001b[0m\u001b[0;34m)\u001b[0m\u001b[0;34m:\u001b[0m\u001b[0;34m\u001b[0m\u001b[0;34m\u001b[0m\u001b[0m\n\u001b[0m\u001b[1;32m    944\u001b[0m             \u001b[0;31m# TODO mypy doesn't support @property, see: https://github.com/python/mypy/issues/6185\u001b[0m\u001b[0;34m\u001b[0m\u001b[0;34m\u001b[0m\u001b[0;34m\u001b[0m\u001b[0m\n\u001b[1;32m    945\u001b[0m             \u001b[0;32mreturn\u001b[0m \u001b[0mhandle_torch_function\u001b[0m\u001b[0;34m(\u001b[0m\u001b[0mTensor\u001b[0m\u001b[0;34m.\u001b[0m\u001b[0mgrad\u001b[0m\u001b[0;34m.\u001b[0m\u001b[0m__get__\u001b[0m\u001b[0;34m,\u001b[0m \u001b[0mrelevant_args\u001b[0m\u001b[0;34m,\u001b[0m \u001b[0mself\u001b[0m\u001b[0;34m)\u001b[0m  \u001b[0;31m# type: ignore[attr-defined]\u001b[0m\u001b[0;34m\u001b[0m\u001b[0;34m\u001b[0m\u001b[0m\n",
            "\u001b[0;32m/usr/local/lib/python3.6/dist-packages/torch/overrides.py\u001b[0m in \u001b[0;36mhas_torch_function\u001b[0;34m(relevant_args)\u001b[0m\n\u001b[1;32m   1088\u001b[0m         \u001b[0mgetattr\u001b[0m\u001b[0;34m(\u001b[0m\u001b[0ma\u001b[0m\u001b[0;34m,\u001b[0m \u001b[0;34m'__torch_function__'\u001b[0m\u001b[0;34m,\u001b[0m \u001b[0m_disabled_torch_function_impl\u001b[0m\u001b[0;34m)\u001b[0m\u001b[0;34m\u001b[0m\u001b[0;34m\u001b[0m\u001b[0m\n\u001b[1;32m   1089\u001b[0m         \u001b[0;32mis\u001b[0m \u001b[0;32mnot\u001b[0m \u001b[0m_disabled_torch_function_impl\u001b[0m\u001b[0;34m\u001b[0m\u001b[0;34m\u001b[0m\u001b[0m\n\u001b[0;32m-> 1090\u001b[0;31m         \u001b[0;32mfor\u001b[0m \u001b[0ma\u001b[0m \u001b[0;32min\u001b[0m \u001b[0mrelevant_args\u001b[0m\u001b[0;34m\u001b[0m\u001b[0;34m\u001b[0m\u001b[0m\n\u001b[0m\u001b[1;32m   1091\u001b[0m     )\n\u001b[1;32m   1092\u001b[0m \u001b[0;34m\u001b[0m\u001b[0m\n",
            "\u001b[0;32m/usr/local/lib/python3.6/dist-packages/torch/overrides.py\u001b[0m in \u001b[0;36m<genexpr>\u001b[0;34m(.0)\u001b[0m\n\u001b[1;32m   1088\u001b[0m         \u001b[0mgetattr\u001b[0m\u001b[0;34m(\u001b[0m\u001b[0ma\u001b[0m\u001b[0;34m,\u001b[0m \u001b[0;34m'__torch_function__'\u001b[0m\u001b[0;34m,\u001b[0m \u001b[0m_disabled_torch_function_impl\u001b[0m\u001b[0;34m)\u001b[0m\u001b[0;34m\u001b[0m\u001b[0;34m\u001b[0m\u001b[0m\n\u001b[1;32m   1089\u001b[0m         \u001b[0;32mis\u001b[0m \u001b[0;32mnot\u001b[0m \u001b[0m_disabled_torch_function_impl\u001b[0m\u001b[0;34m\u001b[0m\u001b[0;34m\u001b[0m\u001b[0m\n\u001b[0;32m-> 1090\u001b[0;31m         \u001b[0;32mfor\u001b[0m \u001b[0ma\u001b[0m \u001b[0;32min\u001b[0m \u001b[0mrelevant_args\u001b[0m\u001b[0;34m\u001b[0m\u001b[0;34m\u001b[0m\u001b[0m\n\u001b[0m\u001b[1;32m   1091\u001b[0m     )\n\u001b[1;32m   1092\u001b[0m \u001b[0;34m\u001b[0m\u001b[0m\n",
            "\u001b[0;31mKeyboardInterrupt\u001b[0m: "
          ]
        }
      ]
    },
    {
      "cell_type": "code",
      "metadata": {
        "ExecuteTime": {
          "end_time": "2020-11-06T23:17:58.003471Z",
          "start_time": "2020-11-06T23:17:57.700351Z"
        },
        "id": "vQPTVVo9KwtG"
      },
      "source": [
        "import seaborn as sns\n",
        "\n",
        "plt.figure(figsize=(15, 10))\n",
        "sns.violinplot(x='Structure', y='RMSE', hue='Partition', data=resultsdf)\n",
        "plt.xticks(rotation=10)\n",
        "\n",
        "for x in range(len(n_conv_list) * len(n_fc_list) - 1):\n",
        "    plt.axvline(x + 0.5, color='r', linestyle='--', alpha=0.5)"
      ],
      "execution_count": null,
      "outputs": []
    },
    {
      "cell_type": "markdown",
      "metadata": {
        "id": "3IqcsOiMKwtG"
      },
      "source": [
        "# Application to Three Data Sets"
      ]
    },
    {
      "cell_type": "markdown",
      "metadata": {
        "id": "-NjVUvdQKwtG"
      },
      "source": [
        "In the following experiments, you may try a variety of learning_rates, numbers of epochs, and network structures, but in the violin plot use one value for learning_rate, one value for number of epochs, and six values of network structure.\n",
        "\n",
        "Apply `multiple_runs_regression` for various network structures to the automobile data introduced in Lecture Notes 17.  Load it as follows."
      ]
    },
    {
      "cell_type": "code",
      "metadata": {
        "ExecuteTime": {
          "end_time": "2020-11-10T19:46:49.254285Z",
          "start_time": "2020-11-10T19:46:49.242978Z"
        },
        "id": "2uoejt_MKwtG",
        "colab": {
          "base_uri": "https://localhost:8080/"
        },
        "outputId": "8c709c22-6510-4fbf-f926-a84bd618dcde"
      },
      "source": [
        "import pandas as pd\n",
        "import os\n",
        "\n",
        "if os.path.isfile('automobile.csv'):\n",
        "    print('Reading data from \\'automobile.csv\\'.')\n",
        "    automobile = pd.read_csv('automobile.csv')\n",
        "else:\n",
        "    print('Downloading auto-mpg.data from UCI ML Repository.')\n",
        "    automobile = pd.read_csv('https://archive.ics.uci.edu/ml/machine-learning-databases/auto-mpg/auto-mpg.data',\n",
        "                             header=None, delimiter='\\s+', na_values='?', \n",
        "                             usecols=range(8))\n",
        "    automobile.columns = ('mpg', 'cylinders', 'displacement', 'horsepower', 'weight',\n",
        "                          'acceleration', 'year', 'origin')\n",
        "\n",
        "    print(f'Number rows in original data file {len(automobile)}.')\n",
        "    automobile = automobile.dropna(axis=0)\n",
        "    print(f'Number rows after dropping rows with missing values {len(automobile)}.')\n",
        "    automobile.to_csv('automobile.csv', index=False)  # so row numbers are not written to file\n",
        "    \n",
        "T = automobile['mpg'].values.reshape(-1, 1)\n",
        "X = automobile.iloc[:, 1:].values\n",
        "X.shape, T.shape"
      ],
      "execution_count": null,
      "outputs": [
        {
          "output_type": "stream",
          "text": [
            "Reading data from 'automobile.csv'.\n"
          ],
          "name": "stdout"
        },
        {
          "output_type": "execute_result",
          "data": {
            "text/plain": [
              "((392, 7), (392, 1))"
            ]
          },
          "metadata": {
            "tags": []
          },
          "execution_count": 167
        }
      ]
    },
    {
      "cell_type": "code",
      "metadata": {
        "id": "qzpCX9Sikv9j"
      },
      "source": [
        "\n"
      ],
      "execution_count": null,
      "outputs": []
    },
    {
      "cell_type": "code",
      "metadata": {
        "colab": {
          "base_uri": "https://localhost:8080/"
        },
        "id": "RNCtMcVFDoOE",
        "outputId": "fba65e33-3157-43bd-bac2-5ccfd801ea91"
      },
      "source": [
        "fractions = (0.6, 0.2, 0.2)\n",
        "\n",
        "\n",
        "n_hiddens_list = [[], [7], [15, 20],[20,10,5],[200,150,100,50]]  # Notice the first one... []\n",
        "n_epochs = 350\n",
        "learning_rate = 0.001\n",
        "\n",
        "n_partitions = 10\n",
        "\n",
        "results = []\n",
        "for nfc in n_hiddens_list:\n",
        "    results.extend(multiple_runs_regression(n_partitions, X, T, fractions, nfc, n_epochs, learning_rate))\n",
        "    \n",
        "resultsdf = pd.DataFrame(results, columns=('Structure', 'Partition', 'RMSE'))"
      ],
      "execution_count": null,
      "outputs": [
        {
          "output_type": "stream",
          "text": [
            "Structure []: Repetition 1 2 3 4 5 6 7 8 9 10 \n",
            "Structure [7]: Repetition 1 2 3 4 5 6 7 8 9 10 \n",
            "Structure [15, 20]: Repetition 1 2 3 4 5 6 7 8 9 10 \n",
            "Structure [20, 10, 5]: Repetition 1 2 3 4 5 6 7 8 9 10 \n",
            "Structure [200, 150, 100, 50]: Repetition 1 2 3 4 5 6 7 8 9 10 \n"
          ],
          "name": "stdout"
        }
      ]
    },
    {
      "cell_type": "code",
      "metadata": {
        "colab": {
          "base_uri": "https://localhost:8080/",
          "height": 622
        },
        "id": "oapIPGQyD3R1",
        "outputId": "a2c02032-de98-433c-bdc5-dcbec185cd59"
      },
      "source": [
        "import seaborn as sns\n",
        "\n",
        "plt.figure(figsize=(15, 10))\n",
        "sns.violinplot(x='Structure', y='RMSE', hue='Partition', data=resultsdf)\n",
        "plt.xticks(rotation=10)\n",
        "\n",
        "for x in range(len(n_hiddens_list) - 1):\n",
        "    plt.axvline(x + 0.5, color='r', linestyle='--', alpha=0.5)"
      ],
      "execution_count": null,
      "outputs": [
        {
          "output_type": "display_data",
          "data": {
            "image/png": "[encoded data removed]",
            "text/plain": [
              "<Figure size 1080x720 with 1 Axes>"
            ]
          },
          "metadata": {
            "tags": [],
            "needs_background": "light"
          }
        }
      ]
    },
    {
      "cell_type": "markdown",
      "metadata": {
        "id": "yHdmmf377b2K"
      },
      "source": [
        "# Best Model"
      ]
    },
    {
      "cell_type": "code",
      "metadata": {
        "colab": {
          "base_uri": "https://localhost:8080/",
          "height": 996
        },
        "id": "vzYgmKaq7gsj",
        "outputId": "b3d11ee6-d309-4f89-aaa0-cc56e85f4704"
      },
      "source": [
        "fractions = (0.6, 0.2, 0.2)\n",
        "\n",
        "\n",
        "n_hiddens_list = [[200,150,100,50]]  # Notice the first one... []\n",
        "n_epochs = 300\n",
        "learning_rate = 0.001\n",
        "\n",
        "n_partitions = 10\n",
        "\n",
        "results = []\n",
        "for nfc in n_hiddens_list:\n",
        "    results.extend(multiple_runs_regression(n_partitions, X, T, fractions, nfc, n_epochs, learning_rate))\n",
        "    \n",
        "resultsdf = pd.DataFrame(results, columns=('Structure', 'Partition', 'RMSE'))\n",
        "resultsdf"
      ],
      "execution_count": null,
      "outputs": [
        {
          "output_type": "stream",
          "text": [
            "Structure [200, 150, 100, 50]: Repetition 1 2 3 4 5 6 7 8 9 10 \n"
          ],
          "name": "stdout"
        },
        {
          "output_type": "execute_result",
          "data": {
            "text/html": [
              "<div>\n",
              "<style scoped>\n",
              "    .dataframe tbody tr th:only-of-type {\n",
              "        vertical-align: middle;\n",
              "    }\n",
              "\n",
              "    .dataframe tbody tr th {\n",
              "        vertical-align: top;\n",
              "    }\n",
              "\n",
              "    .dataframe thead th {\n",
              "        text-align: right;\n",
              "    }\n",
              "</style>\n",
              "<table border=\"1\" class=\"dataframe\">\n",
              "  <thead>\n",
              "    <tr style=\"text-align: right;\">\n",
              "      <th></th>\n",
              "      <th>Structure</th>\n",
              "      <th>Partition</th>\n",
              "      <th>RMSE</th>\n",
              "    </tr>\n",
              "  </thead>\n",
              "  <tbody>\n",
              "    <tr>\n",
              "      <th>0</th>\n",
              "      <td>[200, 150, 100, 50]</td>\n",
              "      <td>train</td>\n",
              "      <td>1.957871</td>\n",
              "    </tr>\n",
              "    <tr>\n",
              "      <th>1</th>\n",
              "      <td>[200, 150, 100, 50]</td>\n",
              "      <td>validation</td>\n",
              "      <td>2.836244</td>\n",
              "    </tr>\n",
              "    <tr>\n",
              "      <th>2</th>\n",
              "      <td>[200, 150, 100, 50]</td>\n",
              "      <td>test</td>\n",
              "      <td>2.734421</td>\n",
              "    </tr>\n",
              "    <tr>\n",
              "      <th>3</th>\n",
              "      <td>[200, 150, 100, 50]</td>\n",
              "      <td>train</td>\n",
              "      <td>2.249557</td>\n",
              "    </tr>\n",
              "    <tr>\n",
              "      <th>4</th>\n",
              "      <td>[200, 150, 100, 50]</td>\n",
              "      <td>validation</td>\n",
              "      <td>2.653910</td>\n",
              "    </tr>\n",
              "    <tr>\n",
              "      <th>5</th>\n",
              "      <td>[200, 150, 100, 50]</td>\n",
              "      <td>test</td>\n",
              "      <td>2.850211</td>\n",
              "    </tr>\n",
              "    <tr>\n",
              "      <th>6</th>\n",
              "      <td>[200, 150, 100, 50]</td>\n",
              "      <td>train</td>\n",
              "      <td>2.489548</td>\n",
              "    </tr>\n",
              "    <tr>\n",
              "      <th>7</th>\n",
              "      <td>[200, 150, 100, 50]</td>\n",
              "      <td>validation</td>\n",
              "      <td>2.471943</td>\n",
              "    </tr>\n",
              "    <tr>\n",
              "      <th>8</th>\n",
              "      <td>[200, 150, 100, 50]</td>\n",
              "      <td>test</td>\n",
              "      <td>2.743511</td>\n",
              "    </tr>\n",
              "    <tr>\n",
              "      <th>9</th>\n",
              "      <td>[200, 150, 100, 50]</td>\n",
              "      <td>train</td>\n",
              "      <td>3.153443</td>\n",
              "    </tr>\n",
              "    <tr>\n",
              "      <th>10</th>\n",
              "      <td>[200, 150, 100, 50]</td>\n",
              "      <td>validation</td>\n",
              "      <td>2.173453</td>\n",
              "    </tr>\n",
              "    <tr>\n",
              "      <th>11</th>\n",
              "      <td>[200, 150, 100, 50]</td>\n",
              "      <td>test</td>\n",
              "      <td>3.376502</td>\n",
              "    </tr>\n",
              "    <tr>\n",
              "      <th>12</th>\n",
              "      <td>[200, 150, 100, 50]</td>\n",
              "      <td>train</td>\n",
              "      <td>1.969190</td>\n",
              "    </tr>\n",
              "    <tr>\n",
              "      <th>13</th>\n",
              "      <td>[200, 150, 100, 50]</td>\n",
              "      <td>validation</td>\n",
              "      <td>3.114730</td>\n",
              "    </tr>\n",
              "    <tr>\n",
              "      <th>14</th>\n",
              "      <td>[200, 150, 100, 50]</td>\n",
              "      <td>test</td>\n",
              "      <td>3.255988</td>\n",
              "    </tr>\n",
              "    <tr>\n",
              "      <th>15</th>\n",
              "      <td>[200, 150, 100, 50]</td>\n",
              "      <td>train</td>\n",
              "      <td>1.881375</td>\n",
              "    </tr>\n",
              "    <tr>\n",
              "      <th>16</th>\n",
              "      <td>[200, 150, 100, 50]</td>\n",
              "      <td>validation</td>\n",
              "      <td>2.750633</td>\n",
              "    </tr>\n",
              "    <tr>\n",
              "      <th>17</th>\n",
              "      <td>[200, 150, 100, 50]</td>\n",
              "      <td>test</td>\n",
              "      <td>2.750339</td>\n",
              "    </tr>\n",
              "    <tr>\n",
              "      <th>18</th>\n",
              "      <td>[200, 150, 100, 50]</td>\n",
              "      <td>train</td>\n",
              "      <td>2.092131</td>\n",
              "    </tr>\n",
              "    <tr>\n",
              "      <th>19</th>\n",
              "      <td>[200, 150, 100, 50]</td>\n",
              "      <td>validation</td>\n",
              "      <td>2.368227</td>\n",
              "    </tr>\n",
              "    <tr>\n",
              "      <th>20</th>\n",
              "      <td>[200, 150, 100, 50]</td>\n",
              "      <td>test</td>\n",
              "      <td>3.248625</td>\n",
              "    </tr>\n",
              "    <tr>\n",
              "      <th>21</th>\n",
              "      <td>[200, 150, 100, 50]</td>\n",
              "      <td>train</td>\n",
              "      <td>1.741452</td>\n",
              "    </tr>\n",
              "    <tr>\n",
              "      <th>22</th>\n",
              "      <td>[200, 150, 100, 50]</td>\n",
              "      <td>validation</td>\n",
              "      <td>2.143323</td>\n",
              "    </tr>\n",
              "    <tr>\n",
              "      <th>23</th>\n",
              "      <td>[200, 150, 100, 50]</td>\n",
              "      <td>test</td>\n",
              "      <td>3.465152</td>\n",
              "    </tr>\n",
              "    <tr>\n",
              "      <th>24</th>\n",
              "      <td>[200, 150, 100, 50]</td>\n",
              "      <td>train</td>\n",
              "      <td>2.047383</td>\n",
              "    </tr>\n",
              "    <tr>\n",
              "      <th>25</th>\n",
              "      <td>[200, 150, 100, 50]</td>\n",
              "      <td>validation</td>\n",
              "      <td>3.209956</td>\n",
              "    </tr>\n",
              "    <tr>\n",
              "      <th>26</th>\n",
              "      <td>[200, 150, 100, 50]</td>\n",
              "      <td>test</td>\n",
              "      <td>2.523539</td>\n",
              "    </tr>\n",
              "    <tr>\n",
              "      <th>27</th>\n",
              "      <td>[200, 150, 100, 50]</td>\n",
              "      <td>train</td>\n",
              "      <td>2.109197</td>\n",
              "    </tr>\n",
              "    <tr>\n",
              "      <th>28</th>\n",
              "      <td>[200, 150, 100, 50]</td>\n",
              "      <td>validation</td>\n",
              "      <td>2.445795</td>\n",
              "    </tr>\n",
              "    <tr>\n",
              "      <th>29</th>\n",
              "      <td>[200, 150, 100, 50]</td>\n",
              "      <td>test</td>\n",
              "      <td>3.259946</td>\n",
              "    </tr>\n",
              "  </tbody>\n",
              "</table>\n",
              "</div>"
            ],
            "text/plain": [
              "              Structure   Partition      RMSE\n",
              "0   [200, 150, 100, 50]       train  1.957871\n",
              "1   [200, 150, 100, 50]  validation  2.836244\n",
              "2   [200, 150, 100, 50]        test  2.734421\n",
              "3   [200, 150, 100, 50]       train  2.249557\n",
              "4   [200, 150, 100, 50]  validation  2.653910\n",
              "5   [200, 150, 100, 50]        test  2.850211\n",
              "6   [200, 150, 100, 50]       train  2.489548\n",
              "7   [200, 150, 100, 50]  validation  2.471943\n",
              "8   [200, 150, 100, 50]        test  2.743511\n",
              "9   [200, 150, 100, 50]       train  3.153443\n",
              "10  [200, 150, 100, 50]  validation  2.173453\n",
              "11  [200, 150, 100, 50]        test  3.376502\n",
              "12  [200, 150, 100, 50]       train  1.969190\n",
              "13  [200, 150, 100, 50]  validation  3.114730\n",
              "14  [200, 150, 100, 50]        test  3.255988\n",
              "15  [200, 150, 100, 50]       train  1.881375\n",
              "16  [200, 150, 100, 50]  validation  2.750633\n",
              "17  [200, 150, 100, 50]        test  2.750339\n",
              "18  [200, 150, 100, 50]       train  2.092131\n",
              "19  [200, 150, 100, 50]  validation  2.368227\n",
              "20  [200, 150, 100, 50]        test  3.248625\n",
              "21  [200, 150, 100, 50]       train  1.741452\n",
              "22  [200, 150, 100, 50]  validation  2.143323\n",
              "23  [200, 150, 100, 50]        test  3.465152\n",
              "24  [200, 150, 100, 50]       train  2.047383\n",
              "25  [200, 150, 100, 50]  validation  3.209956\n",
              "26  [200, 150, 100, 50]        test  2.523539\n",
              "27  [200, 150, 100, 50]       train  2.109197\n",
              "28  [200, 150, 100, 50]  validation  2.445795\n",
              "29  [200, 150, 100, 50]        test  3.259946"
            ]
          },
          "metadata": {
            "tags": []
          },
          "execution_count": 170
        }
      ]
    },
    {
      "cell_type": "code",
      "metadata": {
        "colab": {
          "base_uri": "https://localhost:8080/",
          "height": 623
        },
        "id": "NSoJF_Gt9wle",
        "outputId": "041056db-0b7b-4ec8-aa86-1be4d7e8d53e"
      },
      "source": [
        "import seaborn as sns\n",
        "\n",
        "plt.figure(figsize=(15, 10))\n",
        "sns.violinplot(x='Structure', y='RMSE', hue='Partition', data=resultsdf)\n",
        "plt.xticks(rotation=10)\n",
        "\n",
        "for x in range(len(n_hiddens_list) - 1):\n",
        "    plt.axvline(x + 0.5, color='r', linestyle='--', alpha=0.5)"
      ],
      "execution_count": null,
      "outputs": [
        {
          "output_type": "display_data",
          "data": {
            "image/png": "[encoded data removed]",
            "text/plain": [
              "<Figure size 1080x720 with 1 Axes>"
            ]
          },
          "metadata": {
            "tags": [],
            "needs_background": "light"
          }
        }
      ]
    },
    {
      "cell_type": "markdown",
      "metadata": {
        "id": "LQg456zRxVWR"
      },
      "source": [
        "# Obsesrvation for regression violin plots\n",
        "\n",
        "*   We know that, the lower the RMSE the better is the model's performance. In these violin plots we can see that the model with 4 hidden layers has the best train, validation and test RMSE values.\n",
        "*   As the number of layers are increased the density of the values of the center are increasing and the RMSE values are decreasing. We can also see that the range of the RMSE values is decreasing.\n",
        "\n",
        "*   The linear model perfomrs the worst with the test RMSE close to 5%.\n",
        "*   One interesting thing to see is that the best model, even though it has low RMSE it has an uneven shape. The range of the values is also high. This could be improved by in opinion by increasing the number of epochs\n",
        "\n",
        "\n",
        "\n"
      ]
    },
    {
      "cell_type": "markdown",
      "metadata": {
        "id": "D046mOHTKwtG"
      },
      "source": [
        "Apply `multiple_runs_classification` for various network structures to the following data set from a study in diabetes diagnosis."
      ]
    },
    {
      "cell_type": "code",
      "metadata": {
        "ExecuteTime": {
          "end_time": "2020-11-06T23:19:25.533173Z",
          "start_time": "2020-11-06T23:19:25.099961Z"
        },
        "id": "bGzy9XECKwtG",
        "colab": {
          "base_uri": "https://localhost:8080/"
        },
        "outputId": "2e58339c-1f53-4c2b-a8a0-5a749a0ed919"
      },
      "source": [
        "if os.path.isfile('diabetes.csv'):\n",
        "    print('Reading data from \\'diabetes.csv\\'.')\n",
        "    diabetes = pd.read_csv('diabetes.csv')\n",
        "else:\n",
        "    print('Downloading diabetes_data_upload.csv from UCI ML Repository.')\n",
        "    diabetes = pd.read_csv('https://archive.ics.uci.edu/ml/machine-learning-databases/00529/diabetes_data_upload.csv')\n",
        "                        # usecols=range(1,14))\n",
        "    if False:\n",
        "        print(f'Number rows in original data file {len(diabetes)}.')\n",
        "        diabetes = diabetes.dropna(axis=0)\n",
        "        print(f'Number rows after dropping rows with missing values {len(diabetes)}.')\n",
        "    converter = dict(Yes=1, No=0, Female=1, Male=0, Positive=1, Negative=0)\n",
        "    diabetes = diabetes.applymap(lambda x: converter.get(x, x))\n",
        "    diabetes.to_csv('diabetes.csv', index=False)  # so row numbers are not written to file\n",
        "\n",
        "X = diabetes.iloc[:, :-1].values\n",
        "T = diabetes.iloc[:, -1:].values\n",
        "\n",
        "X.shape, T.shape"
      ],
      "execution_count": null,
      "outputs": [
        {
          "output_type": "stream",
          "text": [
            "Reading data from 'diabetes.csv'.\n"
          ],
          "name": "stdout"
        },
        {
          "output_type": "execute_result",
          "data": {
            "text/plain": [
              "((520, 16), (520, 1))"
            ]
          },
          "metadata": {
            "tags": []
          },
          "execution_count": 172
        }
      ]
    },
    {
      "cell_type": "code",
      "metadata": {
        "colab": {
          "base_uri": "https://localhost:8080/"
        },
        "id": "V29T1a4jEZxP",
        "outputId": "bed7effa-273a-4e2d-d3be-71c917e8ae7a"
      },
      "source": [
        "fractions = (0.6, 0.2, 0.2)\n",
        "n_hiddens_list = [[], [5], [20], [20, 10],[15,15,20]]  # Notice the first one... []\n",
        "n_epochs = 350\n",
        "learning_rate = 0.01\n",
        "\n",
        "n_partitions = 10\n",
        "\n",
        "results = []\n",
        "for n_hiddens in n_hiddens_list:\n",
        "    results.extend(multiple_runs_classification(n_partitions, X,T, fractions, n_hiddens, n_epochs, learning_rate))\n",
        "    \n",
        "resultsdf = pd.DataFrame(results, columns=('Structure', 'Partition', 'Percent_correct'))"
      ],
      "execution_count": null,
      "outputs": [
        {
          "output_type": "stream",
          "text": [
            "Structure []: Repetition 1 2 3 4 5 6 7 8 9 10 \n",
            "Structure [5]: Repetition 1 2 3 4 5 6 7 8 9 10 \n",
            "Structure [20]: Repetition 1 2 3 4 5 6 7 8 9 10 \n",
            "Structure [20, 10]: Repetition 1 2 3 4 5 6 7 8 9 10 \n",
            "Structure [15, 15, 20]: Repetition 1 2 3 4 5 6 7 8 9 10 \n"
          ],
          "name": "stdout"
        }
      ]
    },
    {
      "cell_type": "code",
      "metadata": {
        "colab": {
          "base_uri": "https://localhost:8080/",
          "height": 606
        },
        "id": "6lRHaCjGE8cr",
        "outputId": "01b7af54-9f30-4544-d9fb-fb3e5c626c43"
      },
      "source": [
        "import seaborn as sns\n",
        "\n",
        "plt.figure(figsize=(12, 10))\n",
        "sns.violinplot(x='Structure', y='Percent_correct', hue='Partition', data=resultsdf)\n",
        "for x in range(len(n_hiddens_list) - 1):\n",
        "    plt.axvline(x + 0.5, color='r', linestyle='--', alpha=0.5)"
      ],
      "execution_count": null,
      "outputs": [
        {
          "output_type": "display_data",
          "data": {
            "image/png": "[encoded data removed]",
            "text/plain": [
              "<Figure size 864x720 with 1 Axes>"
            ]
          },
          "metadata": {
            "tags": [],
            "needs_background": "light"
          }
        }
      ]
    },
    {
      "cell_type": "markdown",
      "metadata": {
        "id": "i0NY69V47QgA"
      },
      "source": [
        "# BEST MODEL"
      ]
    },
    {
      "cell_type": "code",
      "metadata": {
        "colab": {
          "base_uri": "https://localhost:8080/"
        },
        "id": "OD_Q1MDh7S85",
        "outputId": "72585196-7f5f-442d-ba36-995afc05be42"
      },
      "source": [
        "fractions = (0.6, 0.2, 0.2)\n",
        "n_hiddens_list = [[20,10]]  # Notice the first one... []\n",
        "n_epochs = 350\n",
        "learning_rate = 0.01\n",
        "\n",
        "n_partitions = 10\n",
        "\n",
        "results = []\n",
        "for nh in n_hiddens_list:\n",
        "    results.extend(multiple_runs_classification(n_partitions, X,T, fractions, nh, n_epochs, learning_rate))\n",
        "    \n",
        "resultsdf = pd.DataFrame(results, columns=('Structure', 'Partition', 'Percent_correct'))"
      ],
      "execution_count": null,
      "outputs": [
        {
          "output_type": "stream",
          "text": [
            "Structure [20, 10]: Repetition 1 2 3 4 5 6 7 8 9 10 \n"
          ],
          "name": "stdout"
        }
      ]
    },
    {
      "cell_type": "code",
      "metadata": {
        "colab": {
          "base_uri": "https://localhost:8080/",
          "height": 606
        },
        "id": "OCkrSGBiMlP3",
        "outputId": "b48997b4-69bf-4629-8efd-79257ee8b4d0"
      },
      "source": [
        "import seaborn as sns\n",
        "\n",
        "plt.figure(figsize=(12, 10))\n",
        "sns.violinplot(x='Structure', y='Percent_correct', hue='Partition', data=resultsdf)\n",
        "for x in range(len(n_hiddens_list) - 1):\n",
        "    plt.axvline(x + 0.5, color='r', linestyle='--', alpha=0.5)"
      ],
      "execution_count": null,
      "outputs": [
        {
          "output_type": "display_data",
          "data": {
            "image/png": "[encoded data removed]",
            "text/plain": [
              "<Figure size 864x720 with 1 Axes>"
            ]
          },
          "metadata": {
            "tags": [],
            "needs_background": "light"
          }
        }
      ]
    },
    {
      "cell_type": "markdown",
      "metadata": {
        "id": "PjA2aDPjAobO"
      },
      "source": [
        "# Confusion Matrix"
      ]
    },
    {
      "cell_type": "code",
      "metadata": {
        "colab": {
          "base_uri": "https://localhost:8080/"
        },
        "id": "5Ey2qn06_8Uk",
        "outputId": "ccf07cda-fa10-4ac3-d24c-9830077728e8"
      },
      "source": [
        "nnet = NeuralNetworkClassifierTorch(X.shape[1], [20,10], len(np.unique(T)))\n",
        "Xtrain, Ttrain, Xval, Tval, Xtest, Ttest = partition(X, T, (0.6, 0.2, 0.2),\n",
        "                                         shuffle=True, classification=True)\n",
        "nnet.train(Xtrain, Ttrain, n_epochs, learning_rate, method='adam', Xval=Xval, Tval=Tval, verbose=True)"
      ],
      "execution_count": null,
      "outputs": [
        {
          "output_type": "stream",
          "text": [
            "Epoch 35 LL train 0.8640 val 0.8636\n",
            "Epoch 70 LL train 0.9694 val 0.9381\n",
            "Epoch 105 LL train 0.9934 val 0.9296\n",
            "Epoch 140 LL train 0.9955 val 0.9272\n",
            "Epoch 175 LL train 0.9967 val 0.9224\n",
            "Epoch 210 LL train 0.9976 val 0.9146\n",
            "Epoch 245 LL train 0.9982 val 0.9070\n",
            "Epoch 280 LL train 0.9987 val 0.9000\n",
            "Epoch 315 LL train 0.9990 val 0.8935\n",
            "Epoch 350 LL train 0.9993 val 0.8878\n"
          ],
          "name": "stdout"
        },
        {
          "output_type": "execute_result",
          "data": {
            "text/plain": [
              "NeuralNetworkClassifierTorch(16, [20, 10], 2, device=cpu)"
            ]
          },
          "metadata": {
            "tags": []
          },
          "execution_count": 182
        }
      ]
    },
    {
      "cell_type": "code",
      "metadata": {
        "colab": {
          "base_uri": "https://localhost:8080/",
          "height": 128
        },
        "id": "zADQrG2tBEX0",
        "outputId": "0eef42ea-9167-47a6-e276-3d088d2b660f"
      },
      "source": [
        "C_train, P_train = nnet.use(Xtrain)\n",
        "confusion_matrix(C_train, Ttrain)"
      ],
      "execution_count": null,
      "outputs": [
        {
          "output_type": "stream",
          "text": [
            "Percent Correct is 38.46153846153847\n"
          ],
          "name": "stdout"
        },
        {
          "output_type": "execute_result",
          "data": {
            "text/html": [
              "<div>\n",
              "<style scoped>\n",
              "    .dataframe tbody tr th:only-of-type {\n",
              "        vertical-align: middle;\n",
              "    }\n",
              "\n",
              "    .dataframe tbody tr th {\n",
              "        vertical-align: top;\n",
              "    }\n",
              "\n",
              "    .dataframe thead th {\n",
              "        text-align: right;\n",
              "    }\n",
              "</style>\n",
              "<table border=\"1\" class=\"dataframe\">\n",
              "  <thead>\n",
              "    <tr style=\"text-align: right;\">\n",
              "      <th></th>\n",
              "      <th>0</th>\n",
              "      <th>1</th>\n",
              "    </tr>\n",
              "  </thead>\n",
              "  <tbody>\n",
              "    <tr>\n",
              "      <th>0</th>\n",
              "      <td>99.166667</td>\n",
              "      <td>0.833333</td>\n",
              "    </tr>\n",
              "    <tr>\n",
              "      <th>1</th>\n",
              "      <td>0.000000</td>\n",
              "      <td>100.000000</td>\n",
              "    </tr>\n",
              "  </tbody>\n",
              "</table>\n",
              "</div>"
            ],
            "text/plain": [
              "           0           1\n",
              "0  99.166667    0.833333\n",
              "1   0.000000  100.000000"
            ]
          },
          "metadata": {
            "tags": []
          },
          "execution_count": 183
        }
      ]
    },
    {
      "cell_type": "code",
      "metadata": {
        "colab": {
          "base_uri": "https://localhost:8080/",
          "height": 128
        },
        "id": "VB0darl-BXQq",
        "outputId": "487e6559-4446-4ae1-8896-fe24c63e047a"
      },
      "source": [
        "C_val, P_val = nnet.use(Xval)\n",
        "confusion_matrix(C_val, Tval)"
      ],
      "execution_count": null,
      "outputs": [
        {
          "output_type": "stream",
          "text": [
            "Percent Correct is 38.46153846153847\n"
          ],
          "name": "stdout"
        },
        {
          "output_type": "execute_result",
          "data": {
            "text/html": [
              "<div>\n",
              "<style scoped>\n",
              "    .dataframe tbody tr th:only-of-type {\n",
              "        vertical-align: middle;\n",
              "    }\n",
              "\n",
              "    .dataframe tbody tr th {\n",
              "        vertical-align: top;\n",
              "    }\n",
              "\n",
              "    .dataframe thead th {\n",
              "        text-align: right;\n",
              "    }\n",
              "</style>\n",
              "<table border=\"1\" class=\"dataframe\">\n",
              "  <thead>\n",
              "    <tr style=\"text-align: right;\">\n",
              "      <th></th>\n",
              "      <th>0</th>\n",
              "      <th>1</th>\n",
              "    </tr>\n",
              "  </thead>\n",
              "  <tbody>\n",
              "    <tr>\n",
              "      <th>0</th>\n",
              "      <td>95.0000</td>\n",
              "      <td>5.0000</td>\n",
              "    </tr>\n",
              "    <tr>\n",
              "      <th>1</th>\n",
              "      <td>1.5625</td>\n",
              "      <td>98.4375</td>\n",
              "    </tr>\n",
              "  </tbody>\n",
              "</table>\n",
              "</div>"
            ],
            "text/plain": [
              "         0        1\n",
              "0  95.0000   5.0000\n",
              "1   1.5625  98.4375"
            ]
          },
          "metadata": {
            "tags": []
          },
          "execution_count": 184
        }
      ]
    },
    {
      "cell_type": "code",
      "metadata": {
        "colab": {
          "base_uri": "https://localhost:8080/",
          "height": 128
        },
        "id": "_vyrjZewBZRZ",
        "outputId": "4ff71088-4a65-4514-ab22-00bff04d918a"
      },
      "source": [
        "C_test, P_test = nnet.use(Xtest)\n",
        "confusion_matrix(C_test, Ttest)"
      ],
      "execution_count": null,
      "outputs": [
        {
          "output_type": "stream",
          "text": [
            "Percent Correct is 38.46153846153847\n"
          ],
          "name": "stdout"
        },
        {
          "output_type": "execute_result",
          "data": {
            "text/html": [
              "<div>\n",
              "<style scoped>\n",
              "    .dataframe tbody tr th:only-of-type {\n",
              "        vertical-align: middle;\n",
              "    }\n",
              "\n",
              "    .dataframe tbody tr th {\n",
              "        vertical-align: top;\n",
              "    }\n",
              "\n",
              "    .dataframe thead th {\n",
              "        text-align: right;\n",
              "    }\n",
              "</style>\n",
              "<table border=\"1\" class=\"dataframe\">\n",
              "  <thead>\n",
              "    <tr style=\"text-align: right;\">\n",
              "      <th></th>\n",
              "      <th>0</th>\n",
              "      <th>1</th>\n",
              "    </tr>\n",
              "  </thead>\n",
              "  <tbody>\n",
              "    <tr>\n",
              "      <th>0</th>\n",
              "      <td>100.000</td>\n",
              "      <td>0.000</td>\n",
              "    </tr>\n",
              "    <tr>\n",
              "      <th>1</th>\n",
              "      <td>9.375</td>\n",
              "      <td>90.625</td>\n",
              "    </tr>\n",
              "  </tbody>\n",
              "</table>\n",
              "</div>"
            ],
            "text/plain": [
              "         0       1\n",
              "0  100.000   0.000\n",
              "1    9.375  90.625"
            ]
          },
          "metadata": {
            "tags": []
          },
          "execution_count": 185
        }
      ]
    },
    {
      "cell_type": "markdown",
      "metadata": {
        "id": "oL3WtuhU3SuC"
      },
      "source": [
        "# Obsesrvations for Classification\n",
        "\n",
        "*   The best model has about 95% accuracy which is for the model with two hidden layers but it as a very high range. Like always the linear model performs the worst.\n",
        "\n",
        "*   As the number of layers are increased there is no significant change in train accuracy but the test accuracy differs significantly.\n",
        "\n",
        "*   The model with single hidden layer with 5 units has accuracy lose to the best model and also it has lesser range of percent_correct values.\n",
        "\n"
      ]
    },
    {
      "cell_type": "markdown",
      "metadata": {
        "id": "jHeYQO_QKwtG"
      },
      "source": [
        "Apply `multiple_runs_convolutional` for various network structures to the following small subset of the MNIST data that contains 500 samples of each digit."
      ]
    },
    {
      "cell_type": "code",
      "metadata": {
        "ExecuteTime": {
          "end_time": "2020-11-06T23:18:58.347060Z",
          "start_time": "2020-11-06T23:18:58.060886Z"
        },
        "id": "5Jwok_3aKwtG",
        "colab": {
          "base_uri": "https://localhost:8080/"
        },
        "outputId": "4902999f-983a-4f41-be58-c736bfd1c57d"
      },
      "source": [
        "if os.path.isfile('small_mnist.npz'):\n",
        "    print('Reading data from \\'small_mnist.npz\\'.')\n",
        "    small_mnist = np.load('small_mnist.npz')\n",
        "else:\n",
        "    import shlex\n",
        "    import subprocess\n",
        "    print('Downloading small_mnist.npz from CS545 site.')\n",
        "    cmd = 'curl \"https://www.cs.colostate.edu/~anderson/cs545/notebooks/small_mnist.npz\" -o \"small_mnist.npz\"'\n",
        "    subprocess.call(shlex.split(cmd))\n",
        "    small_mnist = np.load('small_mnist.npz')\n",
        "\n",
        "\n",
        "X = small_mnist['X']\n",
        "X = X.reshape(-1, 1, 28, 28)\n",
        "T = small_mnist['T']\n",
        "\n",
        "X.shape, T.shape"
      ],
      "execution_count": null,
      "outputs": [
        {
          "output_type": "stream",
          "text": [
            "Reading data from 'small_mnist.npz'.\n"
          ],
          "name": "stdout"
        },
        {
          "output_type": "execute_result",
          "data": {
            "text/plain": [
              "((1000, 1, 28, 28), (1000, 1))"
            ]
          },
          "metadata": {
            "tags": []
          },
          "execution_count": 187
        }
      ]
    },
    {
      "cell_type": "code",
      "metadata": {
        "colab": {
          "base_uri": "https://localhost:8080/",
          "height": 1000
        },
        "id": "I5CC2QTLFGt6",
        "outputId": "a04e00b2-461d-4b2a-e182-b49e3ab25526"
      },
      "source": [
        "fractions = (0.6, 0.2, 0.2)\n",
        "n_conv_list = [ [(5, (3, 3), (1, 1))], \n",
        "               [(10, (4, 4), (1, 1)), (4, (4, 4), (2, 2))],\n",
        "                [(10, (4, 4), (2, 2)), (5, (3, 3), (2, 2)), (4, (4, 4), (2, 2))]\n",
        "               ]\n",
        "n_hiddens_list = [[], [7], [15,10]]  # Notice the first one... []\n",
        "n_epochs = 350\n",
        "learning_rate = 0.01\n",
        "\n",
        "n_partitions = 10\n",
        "\n",
        "results = []\n",
        "for nconv in n_conv_list:\n",
        "    for n_hiddens in n_hiddens_list:\n",
        "        results.extend(multiple_runs_convolutional(n_partitions, X, T, fractions, nconv, n_hiddens, n_epochs, learning_rate))\n",
        "    \n",
        "resultsdf = pd.DataFrame(results, columns=('Structure', 'Partition', 'RMSE'))"
      ],
      "execution_count": null,
      "outputs": [
        {
          "output_type": "stream",
          "text": [
            "conv [(5, (3, 3), (1, 1))]  FC: [], :Repetition 1 26 26\n",
            "2 26 26\n",
            "3 26 26\n",
            "4 26 26\n",
            "5 26 26\n",
            "6 26 26\n",
            "7 26 26\n",
            "8 26 26\n",
            "9 26 26\n",
            "10 26 26\n",
            "\n",
            "conv [(5, (3, 3), (1, 1))]  FC: [7], :Repetition 1 26 26\n",
            "2 26 26\n",
            "3 26 26\n",
            "4 26 26\n",
            "5 26 26\n",
            "6 26 26\n",
            "7 26 26\n",
            "8 26 26\n",
            "9 26 26\n",
            "10 26 26\n",
            "\n",
            "conv [(5, (3, 3), (1, 1))]  FC: [15, 10], :Repetition 1 26 26\n",
            "2 26 26\n",
            "3 26 26\n",
            "4 26 26\n",
            "5 26 26\n",
            "6 26 26\n",
            "7 26 26\n",
            "8 26 26\n",
            "9 26 26\n",
            "10 26 26\n",
            "\n",
            "conv [(10, (4, 4), (1, 1)), (4, (4, 4), (2, 2))]  FC: [], :Repetition 1 25 25\n",
            "11 11\n",
            "2 25 25\n",
            "11 11\n",
            "3 25 25\n",
            "11 11\n",
            "4 25 25\n",
            "11 11\n",
            "5 25 25\n",
            "11 11\n",
            "6 25 25\n",
            "11 11\n",
            "7 25 25\n",
            "11 11\n",
            "8 25 25\n",
            "11 11\n",
            "9 25 25\n",
            "11 11\n",
            "10 25 25\n",
            "11 11\n",
            "\n",
            "conv [(10, (4, 4), (1, 1)), (4, (4, 4), (2, 2))]  FC: [7], :Repetition 1 25 25\n",
            "11 11\n",
            "2 25 25\n",
            "11 11\n",
            "3 25 25\n",
            "11 11\n",
            "4 25 25\n",
            "11 11\n",
            "5 25 25\n",
            "11 11\n",
            "6 25 25\n",
            "11 11\n",
            "7 25 25\n",
            "11 11\n",
            "8 25 25\n",
            "11 11\n",
            "9 25 25\n",
            "11 11\n",
            "10 25 25\n",
            "11 11\n",
            "\n",
            "conv [(10, (4, 4), (1, 1)), (4, (4, 4), (2, 2))]  FC: [15, 10], :Repetition 1 25 25\n",
            "11 11\n",
            "2 25 25\n",
            "11 11\n",
            "3 25 25\n",
            "11 11\n",
            "4 25 25\n",
            "11 11\n",
            "5 25 25\n",
            "11 11\n",
            "6 25 25\n",
            "11 11\n",
            "7 25 25\n",
            "11 11\n",
            "8 25 25\n",
            "11 11\n",
            "9 25 25\n",
            "11 11\n",
            "10 25 25\n",
            "11 11\n",
            "\n",
            "conv [(10, (4, 4), (2, 2)), (5, (3, 3), (2, 2)), (4, (4, 4), (2, 2))]  FC: [], :Repetition 1 13 13\n",
            "6 6\n",
            "2 2\n",
            "2 13 13\n",
            "6 6\n",
            "2 2\n",
            "3 13 13\n",
            "6 6\n",
            "2 2\n",
            "4 13 13\n",
            "6 6\n",
            "2 2\n",
            "5 13 13\n",
            "6 6\n",
            "2 2\n",
            "6 13 13\n",
            "6 6\n",
            "2 2\n",
            "7 13 13\n",
            "6 6\n",
            "2 2\n",
            "8 13 13\n",
            "6 6\n",
            "2 2\n",
            "9 13 13\n",
            "6 6\n",
            "2 2\n",
            "10 13 13\n",
            "6 6\n",
            "2 2\n",
            "\n",
            "conv [(10, (4, 4), (2, 2)), (5, (3, 3), (2, 2)), (4, (4, 4), (2, 2))]  FC: [7], :Repetition 1 13 13\n",
            "6 6\n",
            "2 2\n",
            "2 13 13\n",
            "6 6\n",
            "2 2\n",
            "3 13 13\n",
            "6 6\n",
            "2 2\n",
            "4 13 13\n",
            "6 6\n",
            "2 2\n",
            "5 13 13\n",
            "6 6\n",
            "2 2\n",
            "6 13 13\n",
            "6 6\n",
            "2 2\n",
            "7 13 13\n",
            "6 6\n",
            "2 2\n",
            "8 13 13\n",
            "6 6\n",
            "2 2\n",
            "9 13 13\n",
            "6 6\n",
            "2 2\n",
            "10 13 13\n",
            "6 6\n",
            "2 2\n"
          ],
          "name": "stdout"
        },
        {
          "output_type": "error",
          "ename": "KeyboardInterrupt",
          "evalue": "ignored",
          "traceback": [
            "\u001b[0;31m---------------------------------------------------------------------------\u001b[0m",
            "\u001b[0;31mKeyboardInterrupt\u001b[0m                         Traceback (most recent call last)",
            "\u001b[0;32m/content/A5grader.py\u001b[0m in \u001b[0;36m<module>\u001b[0;34m()\u001b[0m\n\u001b[1;32m     13\u001b[0m \u001b[0;32mfor\u001b[0m \u001b[0mnconv\u001b[0m \u001b[0;32min\u001b[0m \u001b[0mn_conv_list\u001b[0m\u001b[0;34m:\u001b[0m\u001b[0;34m\u001b[0m\u001b[0;34m\u001b[0m\u001b[0m\n\u001b[1;32m     14\u001b[0m     \u001b[0;32mfor\u001b[0m \u001b[0mn_hiddens\u001b[0m \u001b[0;32min\u001b[0m \u001b[0mn_hiddens_list\u001b[0m\u001b[0;34m:\u001b[0m\u001b[0;34m\u001b[0m\u001b[0;34m\u001b[0m\u001b[0m\n\u001b[0;32m---> 15\u001b[0;31m         \u001b[0mresults\u001b[0m\u001b[0;34m.\u001b[0m\u001b[0mextend\u001b[0m\u001b[0;34m(\u001b[0m\u001b[0mmultiple_runs_convolutional\u001b[0m\u001b[0;34m(\u001b[0m\u001b[0mn_partitions\u001b[0m\u001b[0;34m,\u001b[0m \u001b[0mX\u001b[0m\u001b[0;34m,\u001b[0m \u001b[0mT\u001b[0m\u001b[0;34m,\u001b[0m \u001b[0mfractions\u001b[0m\u001b[0;34m,\u001b[0m \u001b[0mnconv\u001b[0m\u001b[0;34m,\u001b[0m \u001b[0mn_hiddens\u001b[0m\u001b[0;34m,\u001b[0m \u001b[0mn_epochs\u001b[0m\u001b[0;34m,\u001b[0m \u001b[0mlearning_rate\u001b[0m\u001b[0;34m)\u001b[0m\u001b[0;34m)\u001b[0m\u001b[0;34m\u001b[0m\u001b[0;34m\u001b[0m\u001b[0m\n\u001b[0m\u001b[1;32m     16\u001b[0m \u001b[0;34m\u001b[0m\u001b[0m\n\u001b[1;32m     17\u001b[0m \u001b[0mresultsdf\u001b[0m \u001b[0;34m=\u001b[0m \u001b[0mpd\u001b[0m\u001b[0;34m.\u001b[0m\u001b[0mDataFrame\u001b[0m\u001b[0;34m(\u001b[0m\u001b[0mresults\u001b[0m\u001b[0;34m,\u001b[0m \u001b[0mcolumns\u001b[0m\u001b[0;34m=\u001b[0m\u001b[0;34m(\u001b[0m\u001b[0;34m'Structure'\u001b[0m\u001b[0;34m,\u001b[0m \u001b[0;34m'Partition'\u001b[0m\u001b[0;34m,\u001b[0m \u001b[0;34m'RMSE'\u001b[0m\u001b[0;34m)\u001b[0m\u001b[0;34m)\u001b[0m\u001b[0;34m\u001b[0m\u001b[0;34m\u001b[0m\u001b[0m\n",
            "\u001b[0;32mnotebookcodeStripped.py\u001b[0m in \u001b[0;36mmultiple_runs_convolutional\u001b[0;34m(n_partitions, X, T, fractions, n_conv, n_hiddens, n_epochs, learning_rate)\u001b[0m\n",
            "\u001b[0;32mnotebookcodeStripped.py\u001b[0m in \u001b[0;36mtrain\u001b[0;34m(self, Xtrain, Ttrain, n_epochs, learning_rate, method, verbose, Xval, Tval)\u001b[0m\n",
            "\u001b[0;32m/usr/local/lib/python3.6/dist-packages/torch/autograd/grad_mode.py\u001b[0m in \u001b[0;36mdecorate_context\u001b[0;34m(*args, **kwargs)\u001b[0m\n\u001b[1;32m     24\u001b[0m         \u001b[0;32mdef\u001b[0m \u001b[0mdecorate_context\u001b[0m\u001b[0;34m(\u001b[0m\u001b[0;34m*\u001b[0m\u001b[0margs\u001b[0m\u001b[0;34m,\u001b[0m \u001b[0;34m**\u001b[0m\u001b[0mkwargs\u001b[0m\u001b[0;34m)\u001b[0m\u001b[0;34m:\u001b[0m\u001b[0;34m\u001b[0m\u001b[0;34m\u001b[0m\u001b[0m\n\u001b[1;32m     25\u001b[0m             \u001b[0;32mwith\u001b[0m \u001b[0mself\u001b[0m\u001b[0;34m.\u001b[0m\u001b[0m__class__\u001b[0m\u001b[0;34m(\u001b[0m\u001b[0;34m)\u001b[0m\u001b[0;34m:\u001b[0m\u001b[0;34m\u001b[0m\u001b[0;34m\u001b[0m\u001b[0m\n\u001b[0;32m---> 26\u001b[0;31m                 \u001b[0;32mreturn\u001b[0m \u001b[0mfunc\u001b[0m\u001b[0;34m(\u001b[0m\u001b[0;34m*\u001b[0m\u001b[0margs\u001b[0m\u001b[0;34m,\u001b[0m \u001b[0;34m**\u001b[0m\u001b[0mkwargs\u001b[0m\u001b[0;34m)\u001b[0m\u001b[0;34m\u001b[0m\u001b[0;34m\u001b[0m\u001b[0m\n\u001b[0m\u001b[1;32m     27\u001b[0m         \u001b[0;32mreturn\u001b[0m \u001b[0mcast\u001b[0m\u001b[0;34m(\u001b[0m\u001b[0mF\u001b[0m\u001b[0;34m,\u001b[0m \u001b[0mdecorate_context\u001b[0m\u001b[0;34m)\u001b[0m\u001b[0;34m\u001b[0m\u001b[0;34m\u001b[0m\u001b[0m\n\u001b[1;32m     28\u001b[0m \u001b[0;34m\u001b[0m\u001b[0m\n",
            "\u001b[0;32m/usr/local/lib/python3.6/dist-packages/torch/optim/adam.py\u001b[0m in \u001b[0;36mstep\u001b[0;34m(self, closure)\u001b[0m\n\u001b[1;32m    117\u001b[0m                    \u001b[0mgroup\u001b[0m\u001b[0;34m[\u001b[0m\u001b[0;34m'lr'\u001b[0m\u001b[0;34m]\u001b[0m\u001b[0;34m,\u001b[0m\u001b[0;34m\u001b[0m\u001b[0;34m\u001b[0m\u001b[0m\n\u001b[1;32m    118\u001b[0m                    \u001b[0mgroup\u001b[0m\u001b[0;34m[\u001b[0m\u001b[0;34m'weight_decay'\u001b[0m\u001b[0;34m]\u001b[0m\u001b[0;34m,\u001b[0m\u001b[0;34m\u001b[0m\u001b[0;34m\u001b[0m\u001b[0m\n\u001b[0;32m--> 119\u001b[0;31m                    \u001b[0mgroup\u001b[0m\u001b[0;34m[\u001b[0m\u001b[0;34m'eps'\u001b[0m\u001b[0;34m]\u001b[0m\u001b[0;34m\u001b[0m\u001b[0;34m\u001b[0m\u001b[0m\n\u001b[0m\u001b[1;32m    120\u001b[0m                    )\n\u001b[1;32m    121\u001b[0m         \u001b[0;32mreturn\u001b[0m \u001b[0mloss\u001b[0m\u001b[0;34m\u001b[0m\u001b[0;34m\u001b[0m\u001b[0m\n",
            "\u001b[0;32m/usr/local/lib/python3.6/dist-packages/torch/optim/functional.py\u001b[0m in \u001b[0;36madam\u001b[0;34m(params, grads, exp_avgs, exp_avg_sqs, max_exp_avg_sqs, state_steps, amsgrad, beta1, beta2, lr, weight_decay, eps)\u001b[0m\n\u001b[1;32m     92\u001b[0m             \u001b[0mdenom\u001b[0m \u001b[0;34m=\u001b[0m \u001b[0;34m(\u001b[0m\u001b[0mmax_exp_avg_sq\u001b[0m\u001b[0;34m.\u001b[0m\u001b[0msqrt\u001b[0m\u001b[0;34m(\u001b[0m\u001b[0;34m)\u001b[0m \u001b[0;34m/\u001b[0m \u001b[0mmath\u001b[0m\u001b[0;34m.\u001b[0m\u001b[0msqrt\u001b[0m\u001b[0;34m(\u001b[0m\u001b[0mbias_correction2\u001b[0m\u001b[0;34m)\u001b[0m\u001b[0;34m)\u001b[0m\u001b[0;34m.\u001b[0m\u001b[0madd_\u001b[0m\u001b[0;34m(\u001b[0m\u001b[0meps\u001b[0m\u001b[0;34m)\u001b[0m\u001b[0;34m\u001b[0m\u001b[0;34m\u001b[0m\u001b[0m\n\u001b[1;32m     93\u001b[0m         \u001b[0;32melse\u001b[0m\u001b[0;34m:\u001b[0m\u001b[0;34m\u001b[0m\u001b[0;34m\u001b[0m\u001b[0m\n\u001b[0;32m---> 94\u001b[0;31m             \u001b[0mdenom\u001b[0m \u001b[0;34m=\u001b[0m \u001b[0;34m(\u001b[0m\u001b[0mexp_avg_sq\u001b[0m\u001b[0;34m.\u001b[0m\u001b[0msqrt\u001b[0m\u001b[0;34m(\u001b[0m\u001b[0;34m)\u001b[0m \u001b[0;34m/\u001b[0m \u001b[0mmath\u001b[0m\u001b[0;34m.\u001b[0m\u001b[0msqrt\u001b[0m\u001b[0;34m(\u001b[0m\u001b[0mbias_correction2\u001b[0m\u001b[0;34m)\u001b[0m\u001b[0;34m)\u001b[0m\u001b[0;34m.\u001b[0m\u001b[0madd_\u001b[0m\u001b[0;34m(\u001b[0m\u001b[0meps\u001b[0m\u001b[0;34m)\u001b[0m\u001b[0;34m\u001b[0m\u001b[0;34m\u001b[0m\u001b[0m\n\u001b[0m\u001b[1;32m     95\u001b[0m \u001b[0;34m\u001b[0m\u001b[0m\n\u001b[1;32m     96\u001b[0m         \u001b[0mstep_size\u001b[0m \u001b[0;34m=\u001b[0m \u001b[0mlr\u001b[0m \u001b[0;34m/\u001b[0m \u001b[0mbias_correction1\u001b[0m\u001b[0;34m\u001b[0m\u001b[0;34m\u001b[0m\u001b[0m\n",
            "\u001b[0;31mKeyboardInterrupt\u001b[0m: "
          ]
        }
      ]
    },
    {
      "cell_type": "code",
      "metadata": {
        "colab": {
          "base_uri": "https://localhost:8080/",
          "height": 624
        },
        "id": "n4aova1yjZy8",
        "outputId": "f1444c83-2781-4d54-c2cf-b3d5cb2a23f7"
      },
      "source": [
        "import seaborn as sns\n",
        "\n",
        "plt.figure(figsize=(15, 10))\n",
        "sns.violinplot(x='Structure', y='RMSE', hue='Partition', data=resultsdf)\n",
        "plt.xticks(rotation=10)\n",
        "\n",
        "for x in range(len(n_conv_list) * len(n_hiddens_list) - 1):\n",
        "    plt.axvline(x + 0.5, color='r', linestyle='--', alpha=0.5)"
      ],
      "execution_count": null,
      "outputs": [
        {
          "output_type": "display_data",
          "data": {
            "image/png": "[encoded data removed]",
            "text/plain": [
              "<Figure size 1080x720 with 1 Axes>"
            ]
          },
          "metadata": {
            "tags": [],
            "needs_background": "light"
          }
        }
      ]
    },
    {
      "cell_type": "markdown",
      "metadata": {
        "id": "UWfnjoxGmPyi"
      },
      "source": [
        "# Best Model"
      ]
    },
    {
      "cell_type": "code",
      "metadata": {
        "colab": {
          "base_uri": "https://localhost:8080/"
        },
        "id": "S-OOwnJ9mA5U",
        "outputId": "25104903-e884-41fa-b636-d0c9695896e9"
      },
      "source": [
        "fractions = (0.6, 0.2, 0.2)\n",
        "n_conv_list = [ [(10, (4, 4), (1, 1)), (4, (4, 4), (2, 2))]]\n",
        "n_fc_list = [[]]  # Notice the first one... []\n",
        "n_epochs = 350\n",
        "learning_rate = 0.01\n",
        "\n",
        "n_partitions = 10\n",
        "\n",
        "results = []\n",
        "for nconv in n_conv_list:\n",
        "    for nfc in n_fc_list:\n",
        "        results.extend(multiple_runs_convolutional(n_partitions, X, T, fractions, nconv, nfc, n_epochs, learning_rate))\n",
        "    \n",
        "resultsdf = pd.DataFrame(results, columns=('Structure', 'Partition', 'percent_correct'))"
      ],
      "execution_count": null,
      "outputs": [
        {
          "output_type": "stream",
          "text": [
            "conv [(10, (4, 4), (1, 1)), (4, (4, 4), (2, 2))]  FC: [], :Repetition 1 25 25\n",
            "11 11\n",
            "2 25 25\n",
            "11 11\n",
            "3 25 25\n",
            "11 11\n",
            "4 25 25\n",
            "11 11\n",
            "5 25 25\n",
            "11 11\n",
            "6 25 25\n",
            "11 11\n",
            "7 25 25\n",
            "11 11\n",
            "8 25 25\n",
            "11 11\n",
            "9 25 25\n",
            "11 11\n",
            "10 25 25\n",
            "11 11\n",
            "\n"
          ],
          "name": "stdout"
        }
      ]
    },
    {
      "cell_type": "markdown",
      "metadata": {
        "id": "7oD0zHiQBuLX"
      },
      "source": [
        "# Confusion Matrix"
      ]
    },
    {
      "cell_type": "code",
      "metadata": {
        "colab": {
          "base_uri": "https://localhost:8080/"
        },
        "id": "ebk58g5YO5Tl",
        "outputId": "a9c69505-5475-4a02-f881-0ac8c796bdd1"
      },
      "source": [
        "nnet = NeuralNetworkClassifierConvolutionalTorch(list(X.shape[1:]),[(10, (4, 4), (1, 1)), (4, (4, 4), (2, 2))], [10], len(np.unique(T)))\n",
        "Xtrain, Ttrain, Xval, Tval, Xtest, Ttest = partition(X, T, (0.6, 0.2, 0.2),\n",
        "                                         shuffle=True, classification=True)\n",
        "nnet.train(Xtrain, Ttrain, n_epochs, learning_rate, method='adam', Xval=Xval, Tval=Tval, verbose=True)"
      ],
      "execution_count": null,
      "outputs": [
        {
          "output_type": "stream",
          "text": [
            "25 25\n",
            "11 11\n",
            "Epoch 35 LL train 0.6921 val 0.5308\n",
            "Epoch 70 LL train 0.8704 val 0.6239\n",
            "Epoch 105 LL train 0.9230 val 0.6524\n",
            "Epoch 140 LL train 0.9421 val 0.6736\n",
            "Epoch 175 LL train 0.9601 val 0.6753\n",
            "Epoch 210 LL train 0.9692 val 0.6842\n",
            "Epoch 245 LL train 0.9742 val 0.6907\n",
            "Epoch 280 LL train 0.9778 val 0.6944\n",
            "Epoch 315 LL train 0.9813 val 0.6859\n",
            "Epoch 350 LL train 0.9836 val 0.6832\n"
          ],
          "name": "stdout"
        },
        {
          "output_type": "execute_result",
          "data": {
            "text/plain": [
              "NeuralNetworkClassifierConvolutionalTorch(n_inputs=784, n_conv_list=[(10, (4, 4), (1, 1)), (4, (4, 4), (2, 2))], n_fc_list=[10], n_outputs=10, device=cpu)"
            ]
          },
          "metadata": {
            "tags": []
          },
          "execution_count": 193
        }
      ]
    },
    {
      "cell_type": "code",
      "metadata": {
        "colab": {
          "base_uri": "https://localhost:8080/",
          "height": 376
        },
        "id": "rrfHCBWACfNQ",
        "outputId": "ce309801-6908-4f53-e7a1-f6e6af096e1c"
      },
      "source": [
        "C_train, P_train = nnet.use(Xtrain)\n",
        "confusion_matrix(C_train, Ttrain)"
      ],
      "execution_count": null,
      "outputs": [
        {
          "output_type": "stream",
          "text": [
            "Percent Correct is 10.0\n"
          ],
          "name": "stdout"
        },
        {
          "output_type": "execute_result",
          "data": {
            "text/html": [
              "<div>\n",
              "<style scoped>\n",
              "    .dataframe tbody tr th:only-of-type {\n",
              "        vertical-align: middle;\n",
              "    }\n",
              "\n",
              "    .dataframe tbody tr th {\n",
              "        vertical-align: top;\n",
              "    }\n",
              "\n",
              "    .dataframe thead th {\n",
              "        text-align: right;\n",
              "    }\n",
              "</style>\n",
              "<table border=\"1\" class=\"dataframe\">\n",
              "  <thead>\n",
              "    <tr style=\"text-align: right;\">\n",
              "      <th></th>\n",
              "      <th>0</th>\n",
              "      <th>1</th>\n",
              "      <th>2</th>\n",
              "      <th>3</th>\n",
              "      <th>4</th>\n",
              "      <th>5</th>\n",
              "      <th>6</th>\n",
              "      <th>7</th>\n",
              "      <th>8</th>\n",
              "      <th>9</th>\n",
              "    </tr>\n",
              "  </thead>\n",
              "  <tbody>\n",
              "    <tr>\n",
              "      <th>0</th>\n",
              "      <td>100.000000</td>\n",
              "      <td>0.0</td>\n",
              "      <td>0.000000</td>\n",
              "      <td>0.000000</td>\n",
              "      <td>0.000000</td>\n",
              "      <td>0.000000</td>\n",
              "      <td>0.000000</td>\n",
              "      <td>0.000000</td>\n",
              "      <td>0.000000</td>\n",
              "      <td>0.000000</td>\n",
              "    </tr>\n",
              "    <tr>\n",
              "      <th>1</th>\n",
              "      <td>0.000000</td>\n",
              "      <td>100.0</td>\n",
              "      <td>0.000000</td>\n",
              "      <td>0.000000</td>\n",
              "      <td>0.000000</td>\n",
              "      <td>0.000000</td>\n",
              "      <td>0.000000</td>\n",
              "      <td>0.000000</td>\n",
              "      <td>0.000000</td>\n",
              "      <td>0.000000</td>\n",
              "    </tr>\n",
              "    <tr>\n",
              "      <th>2</th>\n",
              "      <td>0.000000</td>\n",
              "      <td>0.0</td>\n",
              "      <td>96.666667</td>\n",
              "      <td>0.000000</td>\n",
              "      <td>0.000000</td>\n",
              "      <td>1.666667</td>\n",
              "      <td>0.000000</td>\n",
              "      <td>1.666667</td>\n",
              "      <td>0.000000</td>\n",
              "      <td>0.000000</td>\n",
              "    </tr>\n",
              "    <tr>\n",
              "      <th>3</th>\n",
              "      <td>0.000000</td>\n",
              "      <td>0.0</td>\n",
              "      <td>1.666667</td>\n",
              "      <td>98.333333</td>\n",
              "      <td>0.000000</td>\n",
              "      <td>0.000000</td>\n",
              "      <td>0.000000</td>\n",
              "      <td>0.000000</td>\n",
              "      <td>0.000000</td>\n",
              "      <td>0.000000</td>\n",
              "    </tr>\n",
              "    <tr>\n",
              "      <th>4</th>\n",
              "      <td>0.000000</td>\n",
              "      <td>0.0</td>\n",
              "      <td>0.000000</td>\n",
              "      <td>0.000000</td>\n",
              "      <td>98.333333</td>\n",
              "      <td>0.000000</td>\n",
              "      <td>0.000000</td>\n",
              "      <td>0.000000</td>\n",
              "      <td>0.000000</td>\n",
              "      <td>1.666667</td>\n",
              "    </tr>\n",
              "    <tr>\n",
              "      <th>5</th>\n",
              "      <td>0.000000</td>\n",
              "      <td>0.0</td>\n",
              "      <td>0.000000</td>\n",
              "      <td>1.666667</td>\n",
              "      <td>1.666667</td>\n",
              "      <td>96.666667</td>\n",
              "      <td>0.000000</td>\n",
              "      <td>0.000000</td>\n",
              "      <td>0.000000</td>\n",
              "      <td>0.000000</td>\n",
              "    </tr>\n",
              "    <tr>\n",
              "      <th>6</th>\n",
              "      <td>1.666667</td>\n",
              "      <td>0.0</td>\n",
              "      <td>0.000000</td>\n",
              "      <td>0.000000</td>\n",
              "      <td>1.666667</td>\n",
              "      <td>0.000000</td>\n",
              "      <td>96.666667</td>\n",
              "      <td>0.000000</td>\n",
              "      <td>0.000000</td>\n",
              "      <td>0.000000</td>\n",
              "    </tr>\n",
              "    <tr>\n",
              "      <th>7</th>\n",
              "      <td>0.000000</td>\n",
              "      <td>0.0</td>\n",
              "      <td>0.000000</td>\n",
              "      <td>0.000000</td>\n",
              "      <td>0.000000</td>\n",
              "      <td>0.000000</td>\n",
              "      <td>0.000000</td>\n",
              "      <td>100.000000</td>\n",
              "      <td>0.000000</td>\n",
              "      <td>0.000000</td>\n",
              "    </tr>\n",
              "    <tr>\n",
              "      <th>8</th>\n",
              "      <td>0.000000</td>\n",
              "      <td>0.0</td>\n",
              "      <td>0.000000</td>\n",
              "      <td>0.000000</td>\n",
              "      <td>0.000000</td>\n",
              "      <td>1.666667</td>\n",
              "      <td>0.000000</td>\n",
              "      <td>0.000000</td>\n",
              "      <td>98.333333</td>\n",
              "      <td>0.000000</td>\n",
              "    </tr>\n",
              "    <tr>\n",
              "      <th>9</th>\n",
              "      <td>0.000000</td>\n",
              "      <td>0.0</td>\n",
              "      <td>0.000000</td>\n",
              "      <td>0.000000</td>\n",
              "      <td>0.000000</td>\n",
              "      <td>0.000000</td>\n",
              "      <td>0.000000</td>\n",
              "      <td>3.333333</td>\n",
              "      <td>0.000000</td>\n",
              "      <td>96.666667</td>\n",
              "    </tr>\n",
              "  </tbody>\n",
              "</table>\n",
              "</div>"
            ],
            "text/plain": [
              "            0      1          2  ...           7          8          9\n",
              "0  100.000000    0.0   0.000000  ...    0.000000   0.000000   0.000000\n",
              "1    0.000000  100.0   0.000000  ...    0.000000   0.000000   0.000000\n",
              "2    0.000000    0.0  96.666667  ...    1.666667   0.000000   0.000000\n",
              "3    0.000000    0.0   1.666667  ...    0.000000   0.000000   0.000000\n",
              "4    0.000000    0.0   0.000000  ...    0.000000   0.000000   1.666667\n",
              "5    0.000000    0.0   0.000000  ...    0.000000   0.000000   0.000000\n",
              "6    1.666667    0.0   0.000000  ...    0.000000   0.000000   0.000000\n",
              "7    0.000000    0.0   0.000000  ...  100.000000   0.000000   0.000000\n",
              "8    0.000000    0.0   0.000000  ...    0.000000  98.333333   0.000000\n",
              "9    0.000000    0.0   0.000000  ...    3.333333   0.000000  96.666667\n",
              "\n",
              "[10 rows x 10 columns]"
            ]
          },
          "metadata": {
            "tags": []
          },
          "execution_count": 190
        }
      ]
    },
    {
      "cell_type": "code",
      "metadata": {
        "colab": {
          "base_uri": "https://localhost:8080/",
          "height": 376
        },
        "id": "nSRGeq-cCgyR",
        "outputId": "72c045fa-2c1f-498d-90fa-e5939a5b38c7"
      },
      "source": [
        "C_val, P_val = nnet.use(Xval)\n",
        "confusion_matrix(C_val, Tval)"
      ],
      "execution_count": null,
      "outputs": [
        {
          "output_type": "stream",
          "text": [
            "Percent Correct is 10.0\n"
          ],
          "name": "stdout"
        },
        {
          "output_type": "execute_result",
          "data": {
            "text/html": [
              "<div>\n",
              "<style scoped>\n",
              "    .dataframe tbody tr th:only-of-type {\n",
              "        vertical-align: middle;\n",
              "    }\n",
              "\n",
              "    .dataframe tbody tr th {\n",
              "        vertical-align: top;\n",
              "    }\n",
              "\n",
              "    .dataframe thead th {\n",
              "        text-align: right;\n",
              "    }\n",
              "</style>\n",
              "<table border=\"1\" class=\"dataframe\">\n",
              "  <thead>\n",
              "    <tr style=\"text-align: right;\">\n",
              "      <th></th>\n",
              "      <th>0</th>\n",
              "      <th>1</th>\n",
              "      <th>2</th>\n",
              "      <th>3</th>\n",
              "      <th>4</th>\n",
              "      <th>5</th>\n",
              "      <th>6</th>\n",
              "      <th>7</th>\n",
              "      <th>8</th>\n",
              "      <th>9</th>\n",
              "    </tr>\n",
              "  </thead>\n",
              "  <tbody>\n",
              "    <tr>\n",
              "      <th>0</th>\n",
              "      <td>100.0</td>\n",
              "      <td>0.0</td>\n",
              "      <td>0.0</td>\n",
              "      <td>0.0</td>\n",
              "      <td>0.0</td>\n",
              "      <td>0.0</td>\n",
              "      <td>0.0</td>\n",
              "      <td>0.0</td>\n",
              "      <td>0.0</td>\n",
              "      <td>0.0</td>\n",
              "    </tr>\n",
              "    <tr>\n",
              "      <th>1</th>\n",
              "      <td>0.0</td>\n",
              "      <td>85.0</td>\n",
              "      <td>0.0</td>\n",
              "      <td>5.0</td>\n",
              "      <td>0.0</td>\n",
              "      <td>5.0</td>\n",
              "      <td>5.0</td>\n",
              "      <td>0.0</td>\n",
              "      <td>0.0</td>\n",
              "      <td>0.0</td>\n",
              "    </tr>\n",
              "    <tr>\n",
              "      <th>2</th>\n",
              "      <td>0.0</td>\n",
              "      <td>5.0</td>\n",
              "      <td>80.0</td>\n",
              "      <td>0.0</td>\n",
              "      <td>5.0</td>\n",
              "      <td>0.0</td>\n",
              "      <td>0.0</td>\n",
              "      <td>5.0</td>\n",
              "      <td>5.0</td>\n",
              "      <td>0.0</td>\n",
              "    </tr>\n",
              "    <tr>\n",
              "      <th>3</th>\n",
              "      <td>0.0</td>\n",
              "      <td>0.0</td>\n",
              "      <td>5.0</td>\n",
              "      <td>80.0</td>\n",
              "      <td>0.0</td>\n",
              "      <td>5.0</td>\n",
              "      <td>5.0</td>\n",
              "      <td>0.0</td>\n",
              "      <td>5.0</td>\n",
              "      <td>0.0</td>\n",
              "    </tr>\n",
              "    <tr>\n",
              "      <th>4</th>\n",
              "      <td>0.0</td>\n",
              "      <td>0.0</td>\n",
              "      <td>0.0</td>\n",
              "      <td>0.0</td>\n",
              "      <td>95.0</td>\n",
              "      <td>0.0</td>\n",
              "      <td>5.0</td>\n",
              "      <td>0.0</td>\n",
              "      <td>0.0</td>\n",
              "      <td>0.0</td>\n",
              "    </tr>\n",
              "    <tr>\n",
              "      <th>5</th>\n",
              "      <td>0.0</td>\n",
              "      <td>0.0</td>\n",
              "      <td>5.0</td>\n",
              "      <td>15.0</td>\n",
              "      <td>0.0</td>\n",
              "      <td>60.0</td>\n",
              "      <td>10.0</td>\n",
              "      <td>5.0</td>\n",
              "      <td>5.0</td>\n",
              "      <td>0.0</td>\n",
              "    </tr>\n",
              "    <tr>\n",
              "      <th>6</th>\n",
              "      <td>5.0</td>\n",
              "      <td>0.0</td>\n",
              "      <td>0.0</td>\n",
              "      <td>0.0</td>\n",
              "      <td>0.0</td>\n",
              "      <td>5.0</td>\n",
              "      <td>90.0</td>\n",
              "      <td>0.0</td>\n",
              "      <td>0.0</td>\n",
              "      <td>0.0</td>\n",
              "    </tr>\n",
              "    <tr>\n",
              "      <th>7</th>\n",
              "      <td>0.0</td>\n",
              "      <td>5.0</td>\n",
              "      <td>0.0</td>\n",
              "      <td>0.0</td>\n",
              "      <td>0.0</td>\n",
              "      <td>0.0</td>\n",
              "      <td>0.0</td>\n",
              "      <td>95.0</td>\n",
              "      <td>0.0</td>\n",
              "      <td>0.0</td>\n",
              "    </tr>\n",
              "    <tr>\n",
              "      <th>8</th>\n",
              "      <td>0.0</td>\n",
              "      <td>5.0</td>\n",
              "      <td>5.0</td>\n",
              "      <td>0.0</td>\n",
              "      <td>0.0</td>\n",
              "      <td>0.0</td>\n",
              "      <td>0.0</td>\n",
              "      <td>0.0</td>\n",
              "      <td>90.0</td>\n",
              "      <td>0.0</td>\n",
              "    </tr>\n",
              "    <tr>\n",
              "      <th>9</th>\n",
              "      <td>0.0</td>\n",
              "      <td>0.0</td>\n",
              "      <td>0.0</td>\n",
              "      <td>0.0</td>\n",
              "      <td>0.0</td>\n",
              "      <td>0.0</td>\n",
              "      <td>0.0</td>\n",
              "      <td>15.0</td>\n",
              "      <td>0.0</td>\n",
              "      <td>85.0</td>\n",
              "    </tr>\n",
              "  </tbody>\n",
              "</table>\n",
              "</div>"
            ],
            "text/plain": [
              "       0     1     2     3     4     5     6     7     8     9\n",
              "0  100.0   0.0   0.0   0.0   0.0   0.0   0.0   0.0   0.0   0.0\n",
              "1    0.0  85.0   0.0   5.0   0.0   5.0   5.0   0.0   0.0   0.0\n",
              "2    0.0   5.0  80.0   0.0   5.0   0.0   0.0   5.0   5.0   0.0\n",
              "3    0.0   0.0   5.0  80.0   0.0   5.0   5.0   0.0   5.0   0.0\n",
              "4    0.0   0.0   0.0   0.0  95.0   0.0   5.0   0.0   0.0   0.0\n",
              "5    0.0   0.0   5.0  15.0   0.0  60.0  10.0   5.0   5.0   0.0\n",
              "6    5.0   0.0   0.0   0.0   0.0   5.0  90.0   0.0   0.0   0.0\n",
              "7    0.0   5.0   0.0   0.0   0.0   0.0   0.0  95.0   0.0   0.0\n",
              "8    0.0   5.0   5.0   0.0   0.0   0.0   0.0   0.0  90.0   0.0\n",
              "9    0.0   0.0   0.0   0.0   0.0   0.0   0.0  15.0   0.0  85.0"
            ]
          },
          "metadata": {
            "tags": []
          },
          "execution_count": 191
        }
      ]
    },
    {
      "cell_type": "code",
      "metadata": {
        "colab": {
          "base_uri": "https://localhost:8080/",
          "height": 376
        },
        "id": "CMQxs3K6Cgkx",
        "outputId": "457a6c2b-8e7a-4815-ce2f-93f5a89322d9"
      },
      "source": [
        "C_test, P_test = nnet.use(Xtest)\n",
        "confusion_matrix(C_test, Ttest)"
      ],
      "execution_count": null,
      "outputs": [
        {
          "output_type": "stream",
          "text": [
            "Percent Correct is 10.0\n"
          ],
          "name": "stdout"
        },
        {
          "output_type": "execute_result",
          "data": {
            "text/html": [
              "<div>\n",
              "<style scoped>\n",
              "    .dataframe tbody tr th:only-of-type {\n",
              "        vertical-align: middle;\n",
              "    }\n",
              "\n",
              "    .dataframe tbody tr th {\n",
              "        vertical-align: top;\n",
              "    }\n",
              "\n",
              "    .dataframe thead th {\n",
              "        text-align: right;\n",
              "    }\n",
              "</style>\n",
              "<table border=\"1\" class=\"dataframe\">\n",
              "  <thead>\n",
              "    <tr style=\"text-align: right;\">\n",
              "      <th></th>\n",
              "      <th>0</th>\n",
              "      <th>1</th>\n",
              "      <th>2</th>\n",
              "      <th>3</th>\n",
              "      <th>4</th>\n",
              "      <th>5</th>\n",
              "      <th>6</th>\n",
              "      <th>7</th>\n",
              "      <th>8</th>\n",
              "      <th>9</th>\n",
              "    </tr>\n",
              "  </thead>\n",
              "  <tbody>\n",
              "    <tr>\n",
              "      <th>0</th>\n",
              "      <td>90.0</td>\n",
              "      <td>0.0</td>\n",
              "      <td>0.0</td>\n",
              "      <td>0.0</td>\n",
              "      <td>0.0</td>\n",
              "      <td>0.0</td>\n",
              "      <td>5.0</td>\n",
              "      <td>0.0</td>\n",
              "      <td>5.0</td>\n",
              "      <td>0.0</td>\n",
              "    </tr>\n",
              "    <tr>\n",
              "      <th>1</th>\n",
              "      <td>0.0</td>\n",
              "      <td>85.0</td>\n",
              "      <td>0.0</td>\n",
              "      <td>0.0</td>\n",
              "      <td>0.0</td>\n",
              "      <td>5.0</td>\n",
              "      <td>5.0</td>\n",
              "      <td>5.0</td>\n",
              "      <td>0.0</td>\n",
              "      <td>0.0</td>\n",
              "    </tr>\n",
              "    <tr>\n",
              "      <th>2</th>\n",
              "      <td>5.0</td>\n",
              "      <td>0.0</td>\n",
              "      <td>75.0</td>\n",
              "      <td>5.0</td>\n",
              "      <td>5.0</td>\n",
              "      <td>0.0</td>\n",
              "      <td>5.0</td>\n",
              "      <td>0.0</td>\n",
              "      <td>0.0</td>\n",
              "      <td>5.0</td>\n",
              "    </tr>\n",
              "    <tr>\n",
              "      <th>3</th>\n",
              "      <td>0.0</td>\n",
              "      <td>0.0</td>\n",
              "      <td>0.0</td>\n",
              "      <td>85.0</td>\n",
              "      <td>0.0</td>\n",
              "      <td>5.0</td>\n",
              "      <td>0.0</td>\n",
              "      <td>5.0</td>\n",
              "      <td>5.0</td>\n",
              "      <td>0.0</td>\n",
              "    </tr>\n",
              "    <tr>\n",
              "      <th>4</th>\n",
              "      <td>0.0</td>\n",
              "      <td>0.0</td>\n",
              "      <td>0.0</td>\n",
              "      <td>0.0</td>\n",
              "      <td>95.0</td>\n",
              "      <td>0.0</td>\n",
              "      <td>5.0</td>\n",
              "      <td>0.0</td>\n",
              "      <td>0.0</td>\n",
              "      <td>0.0</td>\n",
              "    </tr>\n",
              "    <tr>\n",
              "      <th>5</th>\n",
              "      <td>0.0</td>\n",
              "      <td>0.0</td>\n",
              "      <td>0.0</td>\n",
              "      <td>10.0</td>\n",
              "      <td>10.0</td>\n",
              "      <td>75.0</td>\n",
              "      <td>5.0</td>\n",
              "      <td>0.0</td>\n",
              "      <td>0.0</td>\n",
              "      <td>0.0</td>\n",
              "    </tr>\n",
              "    <tr>\n",
              "      <th>6</th>\n",
              "      <td>0.0</td>\n",
              "      <td>5.0</td>\n",
              "      <td>0.0</td>\n",
              "      <td>0.0</td>\n",
              "      <td>0.0</td>\n",
              "      <td>0.0</td>\n",
              "      <td>90.0</td>\n",
              "      <td>0.0</td>\n",
              "      <td>0.0</td>\n",
              "      <td>5.0</td>\n",
              "    </tr>\n",
              "    <tr>\n",
              "      <th>7</th>\n",
              "      <td>0.0</td>\n",
              "      <td>10.0</td>\n",
              "      <td>0.0</td>\n",
              "      <td>0.0</td>\n",
              "      <td>0.0</td>\n",
              "      <td>0.0</td>\n",
              "      <td>0.0</td>\n",
              "      <td>90.0</td>\n",
              "      <td>0.0</td>\n",
              "      <td>0.0</td>\n",
              "    </tr>\n",
              "    <tr>\n",
              "      <th>8</th>\n",
              "      <td>0.0</td>\n",
              "      <td>5.0</td>\n",
              "      <td>5.0</td>\n",
              "      <td>0.0</td>\n",
              "      <td>0.0</td>\n",
              "      <td>5.0</td>\n",
              "      <td>0.0</td>\n",
              "      <td>0.0</td>\n",
              "      <td>85.0</td>\n",
              "      <td>0.0</td>\n",
              "    </tr>\n",
              "    <tr>\n",
              "      <th>9</th>\n",
              "      <td>10.0</td>\n",
              "      <td>0.0</td>\n",
              "      <td>0.0</td>\n",
              "      <td>0.0</td>\n",
              "      <td>10.0</td>\n",
              "      <td>0.0</td>\n",
              "      <td>0.0</td>\n",
              "      <td>5.0</td>\n",
              "      <td>5.0</td>\n",
              "      <td>70.0</td>\n",
              "    </tr>\n",
              "  </tbody>\n",
              "</table>\n",
              "</div>"
            ],
            "text/plain": [
              "      0     1     2     3     4     5     6     7     8     9\n",
              "0  90.0   0.0   0.0   0.0   0.0   0.0   5.0   0.0   5.0   0.0\n",
              "1   0.0  85.0   0.0   0.0   0.0   5.0   5.0   5.0   0.0   0.0\n",
              "2   5.0   0.0  75.0   5.0   5.0   0.0   5.0   0.0   0.0   5.0\n",
              "3   0.0   0.0   0.0  85.0   0.0   5.0   0.0   5.0   5.0   0.0\n",
              "4   0.0   0.0   0.0   0.0  95.0   0.0   5.0   0.0   0.0   0.0\n",
              "5   0.0   0.0   0.0  10.0  10.0  75.0   5.0   0.0   0.0   0.0\n",
              "6   0.0   5.0   0.0   0.0   0.0   0.0  90.0   0.0   0.0   5.0\n",
              "7   0.0  10.0   0.0   0.0   0.0   0.0   0.0  90.0   0.0   0.0\n",
              "8   0.0   5.0   5.0   0.0   0.0   5.0   0.0   0.0  85.0   0.0\n",
              "9  10.0   0.0   0.0   0.0  10.0   0.0   0.0   5.0   5.0  70.0"
            ]
          },
          "metadata": {
            "tags": []
          },
          "execution_count": 192
        }
      ]
    },
    {
      "cell_type": "markdown",
      "metadata": {
        "id": "hAANOc5gl5u0"
      },
      "source": [
        "# Observations for Convolutional\n",
        "\n",
        "\n",
        "*   From the violin graph, we can see that the best test percent_correct is more than 85%  given by the network with two convolutional layers but not hidden layers. This is very interesting because, the same structure gives the worst train accuracy. \n",
        "\n",
        "*   Increasing the number of hidden layers is increasing the train accuracy but decreasing the test accuracy. This could be suggesting that the increasing the hidden layers is leading to overfitting to a certain extent. \n",
        "\n",
        "\n",
        "*   The worst accuracy is below 80% given by the network with 3 convolutional layers and no hidden layers. The train accuracies are vastly better than the test and  validation accuracies in most of the models and the validation and test accuracies are very close.\n",
        "\n",
        "  \n",
        "\n",
        "\n",
        "\n"
      ]
    },
    {
      "cell_type": "markdown",
      "metadata": {
        "id": "btQt62y4KwtG"
      },
      "source": [
        "For each of the three applications, make violin plots.  For classification problems, also show the confusion matrices.  Describe the results you see with at least 10 sentences for each application, for a total of at least 30 sentences."
      ]
    },
    {
      "cell_type": "markdown",
      "metadata": {
        "ExecuteTime": {
          "end_time": "2020-10-16T20:44:33.927450Z",
          "start_time": "2020-10-16T20:44:33.925092Z"
        },
        "id": "l4gdtY0rKwtG"
      },
      "source": [
        "# Grading\n",
        "\n",
        "Download [A5grader.tar](https://www.cs.colostate.edu/~anderson/cs545/notebooks/A5grader.tar), extract `A5grader.py` before running the following cell."
      ]
    },
    {
      "cell_type": "code",
      "metadata": {
        "ExecuteTime": {
          "end_time": "2020-11-06T23:19:54.846041Z",
          "start_time": "2020-11-06T23:19:36.898950Z"
        },
        "colab": {
          "base_uri": "https://localhost:8080/",
          "height": 1000
        },
        "id": "zKB8WCqEKwtG",
        "outputId": "b1e81f33-0e65-4bcf-bb91-96ff996330d4"
      },
      "source": [
        "%run -i A5grader.py"
      ],
      "execution_count": null,
      "outputs": [
        {
          "output_type": "stream",
          "text": [
            "\n",
            "======================= Code Execution =======================\n",
            "\n",
            "Extracting python code from notebook named 'kakumanu-A5.ipynb' and storing in notebookcode.py\n",
            "Removing all statements that are not function or class defs or import statements.\n",
            "\n",
            "## Testing constructor ####################################################################\n",
            "\n",
            "    nnet = NeuralNetworkClassifierConvolutionalTorch([1, 10, 10], \n",
            "                                                     [(2, (3, 3), (1, 1)), (3, (5, 5), (2, 2))],\n",
            "                                                     [30, 20], 2)\n",
            "\n",
            "    # Is isinstance(nnet, NeuralNetworkClassifierTorch)   True?\n",
            "\n",
            "8 8\n",
            "2 2\n",
            "\n",
            "--- 10/10 points. NeuralNetworkClassifierConvolutionalTorch is correctly of type NeuralNetworkClassifierTorch\n",
            "\n",
            "--- 10/10 points. nnet correctly has 5 pytorch layers.\n",
            "\n",
            "## Testing train ####################################################################\n",
            "\n",
            "    np.random.seed(42)\n",
            "    X = np.random.uniform(0, 1, size=(100, 2))\n",
            "    T = (np.abs(X[:, 0:1] - X[:, 1:2]) < 0.5).astype(int)\n",
            "    results = multiple_runs_classification(5, X, T, (0.4, 0.3, 0.3), [10], 100, 0.01)\n",
            "\n",
            "Structure [10]: Repetition 1 2 3 4 5 \n",
            "\n",
            "--- 10/10 points. results correctly has 15 elements\n",
            "\n",
            "--- 10/10 points. results[0] correctly has 3 elements\n",
            "\n",
            "--- 10/10 points. max of results accuracy is correctly 100%.\n",
            "\n",
            "## Testing train ####################################################################\n",
            "\n",
            "    np.random.seed(42)\n",
            "    X = np.random.uniform(0, 1, size=(100, 1, 10, 10))\n",
            "    T = (X[:, 0, :, 0].mean(-1) < X[:, 0, :, -1].mean(-1)).astype(int).reshape(-1, 1)\n",
            "    results = multiple_runs_convolutional(10, X, T, (0.4, 0.3, 0.3), [[10, (4, 4), (1, 1)]], [10], 1000, 0.01)\n",
            "    mean_train = np.mean([r[2] for r in results if r[1] == 'train'])\n",
            "\n",
            "conv [[10, (4, 4), (1, 1)]]  FC: [10], :Repetition 1 7 7\n",
            "2 7 7\n",
            "3 7 7\n",
            "4 7 7\n",
            "5 7 7\n",
            "6 7 7\n",
            "7 7 7\n",
            "8 7 7\n",
            "9 7 7\n",
            "10 7 7\n",
            "\n",
            "\n",
            "--- 20/20 points. Mean of train accuracy is correct greater than 80%.\n",
            "\n",
            "======================================================================\n",
            "content Execution Grade is 70 / 70\n",
            "======================================================================\n",
            "\n",
            "__ / 5 points. Violin plots for each of the three datasets.\n",
            "\n",
            "__ / 10 points. Confusion matrices for the two classification problems.\n",
            "                to MNIST data.\n",
            "\n",
            "__ / 15 points. Total of at least 30 sentences discussion results of all three datasets.\n",
            "\n",
            "\n",
            "======================================================================\n",
            "content Results and Discussion Grade is ___ / 30\n",
            "======================================================================\n",
            "\n",
            "======================================================================\n",
            "content FINAL GRADE is  _  / 100\n",
            "======================================================================\n",
            "Extra Credit: Earn one point of extra credit for adding code to one of your NeuralNetwork...Torch classes and training and using it on a GPU for one data set.      \n",
            "\n",
            "content EXTRA CREDIT is 0 / 1\n"
          ],
          "name": "stdout"
        },
        {
          "output_type": "display_data",
          "data": {
            "text/plain": [
              "<Figure size 432x288 with 0 Axes>"
            ]
          },
          "metadata": {
            "tags": []
          }
        }
      ]
    },
    {
      "cell_type": "markdown",
      "metadata": {
        "id": "xRPoM-lSKwtH"
      },
      "source": [
        "# Extra Credit\n",
        "\n",
        "Try to train on a GPU for at least one of the datasets by calling one of the `multiple_runs_...` functions.  A simple guide to changes you will need in your code is available at [this site](https://towardsdatascience.com/pytorch-switching-to-the-gpu-a7c0b21e8a99).  You may run on one of the CS department's workstations that have GPUs.\n",
        "\n",
        "Discuss the execution time on just the CPU and on a GPU.  "
      ]
    },
    {
      "cell_type": "code",
      "metadata": {
        "id": "vWCtJfHPKwtH"
      },
      "source": [
        ""
      ],
      "execution_count": null,
      "outputs": []
    }
  ]
}